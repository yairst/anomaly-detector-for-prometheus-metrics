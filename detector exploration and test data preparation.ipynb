{
 "cells": [
  {
   "cell_type": "code",
   "execution_count": 1,
   "metadata": {},
   "outputs": [],
   "source": [
    "import sched\n",
    "import time\n",
    "import datetime as dt\n",
    "from prometheus_api_client.utils import parse_datetime\n",
    "import pandas as pd\n",
    "from detector import get_slice_from_ts, is_anomaly\n",
    "import numpy as np\n",
    "import pickle\n",
    "\n",
    "%load_ext autoreload\n",
    "%autoreload 2"
   ]
  },
  {
   "cell_type": "markdown",
   "metadata": {},
   "source": [
    "## Scheduling Exploration"
   ]
  },
  {
   "cell_type": "markdown",
   "metadata": {},
   "source": [
    "one option is to schedule the detector inside the process, such that the process will run \"forever\" and each minute will execute fresh detection. For that here are some experiments with sched module:"
   ]
  },
  {
   "cell_type": "code",
   "execution_count": 2,
   "metadata": {},
   "outputs": [],
   "source": [
    "s = sched.scheduler(time.time, time.sleep)\n",
    "def print_time(a='default'):\n",
    "    print(\"From print_time\", time.time(), a)"
   ]
  },
  {
   "cell_type": "code",
   "execution_count": 3,
   "metadata": {},
   "outputs": [
    {
     "data": {
      "text/plain": [
       "1637923205.0"
      ]
     },
     "execution_count": 3,
     "metadata": {},
     "output_type": "execute_result"
    }
   ],
   "source": [
    "time.mktime(dt.datetime(2021,11,26,12,40,5).timetuple())"
   ]
  },
  {
   "cell_type": "code",
   "execution_count": 4,
   "metadata": {},
   "outputs": [
    {
     "data": {
      "text/plain": [
       "time.struct_time(tm_year=2022, tm_mon=2, tm_mday=25, tm_hour=6, tm_min=43, tm_sec=1, tm_wday=4, tm_yday=56, tm_isdst=-1)"
      ]
     },
     "execution_count": 4,
     "metadata": {},
     "output_type": "execute_result"
    }
   ],
   "source": [
    "parse_datetime('now').timetuple()"
   ]
  },
  {
   "cell_type": "code",
   "execution_count": 5,
   "metadata": {},
   "outputs": [
    {
     "name": "stdout",
     "output_type": "stream",
     "text": [
      "From print_time 1645764181.5203056 default\n",
      "From print_time 1645764184.0048535 default\n",
      "From print_time 1645764187.0039542 default\n",
      "From print_time 1645764190.010169 default\n",
      "From print_time 1645764193.007207 default\n"
     ]
    }
   ],
   "source": [
    "start = time.mktime(parse_datetime('now').timetuple())\n",
    "for i in range(5):\n",
    "    s.enterabs(start, 1, print_time)\n",
    "    start = start + 3\n",
    "s.run()\n"
   ]
  },
  {
   "cell_type": "markdown",
   "metadata": {},
   "source": [
    "We can see that it is possible. However, running the process forever seems not to be a good pattern. A better one will be to use external scheduler like crontab and run the process each minute. In this way each process run independently for short time, hence we get more stability."
   ]
  },
  {
   "cell_type": "markdown",
   "metadata": {},
   "source": [
    "# Test Data Preparation"
   ]
  },
  {
   "cell_type": "markdown",
   "metadata": {},
   "source": [
    "I create deticated directory to store test data. The directory should include fixed data that won't change due to other processes (other than testing) such as the data in forecasts directory. For that purpose, I copied prometheus_tsdb_head_chunks.pkl from \"forecasts\" to \"test_data\":"
   ]
  },
  {
   "cell_type": "code",
   "execution_count": 6,
   "metadata": {},
   "outputs": [],
   "source": [
    "with open('test_data/prometheus_tsdb_head_chunks.pkl', 'rb') as inp:\n",
    "    metric_obj = pickle.load(inp)\n",
    "df = metric_obj[0].metric_values"
   ]
  },
  {
   "cell_type": "code",
   "execution_count": 7,
   "metadata": {},
   "outputs": [
    {
     "data": {
      "text/html": [
       "<div>\n",
       "<style scoped>\n",
       "    .dataframe tbody tr th:only-of-type {\n",
       "        vertical-align: middle;\n",
       "    }\n",
       "\n",
       "    .dataframe tbody tr th {\n",
       "        vertical-align: top;\n",
       "    }\n",
       "\n",
       "    .dataframe thead th {\n",
       "        text-align: right;\n",
       "    }\n",
       "</style>\n",
       "<table border=\"1\" class=\"dataframe\">\n",
       "  <thead>\n",
       "    <tr style=\"text-align: right;\">\n",
       "      <th></th>\n",
       "      <th>ds</th>\n",
       "      <th>yhat</th>\n",
       "      <th>yhat_lower</th>\n",
       "      <th>yhat_upper</th>\n",
       "    </tr>\n",
       "  </thead>\n",
       "  <tbody>\n",
       "    <tr>\n",
       "      <th>1681</th>\n",
       "      <td>2021-12-10 14:00:30</td>\n",
       "      <td>2786.236983</td>\n",
       "      <td>1963.141442</td>\n",
       "      <td>3607.608634</td>\n",
       "    </tr>\n",
       "    <tr>\n",
       "      <th>1682</th>\n",
       "      <td>2021-12-10 14:01:00</td>\n",
       "      <td>2805.900209</td>\n",
       "      <td>2006.692185</td>\n",
       "      <td>3543.498044</td>\n",
       "    </tr>\n",
       "    <tr>\n",
       "      <th>1683</th>\n",
       "      <td>2021-12-10 14:01:30</td>\n",
       "      <td>2825.414385</td>\n",
       "      <td>1974.111814</td>\n",
       "      <td>3615.091469</td>\n",
       "    </tr>\n",
       "    <tr>\n",
       "      <th>1684</th>\n",
       "      <td>2021-12-10 14:02:00</td>\n",
       "      <td>2844.695356</td>\n",
       "      <td>2078.776026</td>\n",
       "      <td>3637.382563</td>\n",
       "    </tr>\n",
       "    <tr>\n",
       "      <th>1685</th>\n",
       "      <td>2021-12-10 14:02:30</td>\n",
       "      <td>2863.661498</td>\n",
       "      <td>2037.208944</td>\n",
       "      <td>3721.174402</td>\n",
       "    </tr>\n",
       "  </tbody>\n",
       "</table>\n",
       "</div>"
      ],
      "text/plain": [
       "                      ds         yhat   yhat_lower   yhat_upper\n",
       "1681 2021-12-10 14:00:30  2786.236983  1963.141442  3607.608634\n",
       "1682 2021-12-10 14:01:00  2805.900209  2006.692185  3543.498044\n",
       "1683 2021-12-10 14:01:30  2825.414385  1974.111814  3615.091469\n",
       "1684 2021-12-10 14:02:00  2844.695356  2078.776026  3637.382563\n",
       "1685 2021-12-10 14:02:30  2863.661498  2037.208944  3721.174402"
      ]
     },
     "execution_count": 7,
     "metadata": {},
     "output_type": "execute_result"
    }
   ],
   "source": [
    "df.head()"
   ]
  },
  {
   "cell_type": "code",
   "execution_count": 8,
   "metadata": {},
   "outputs": [
    {
     "data": {
      "text/html": [
       "<div>\n",
       "<style scoped>\n",
       "    .dataframe tbody tr th:only-of-type {\n",
       "        vertical-align: middle;\n",
       "    }\n",
       "\n",
       "    .dataframe tbody tr th {\n",
       "        vertical-align: top;\n",
       "    }\n",
       "\n",
       "    .dataframe thead th {\n",
       "        text-align: right;\n",
       "    }\n",
       "</style>\n",
       "<table border=\"1\" class=\"dataframe\">\n",
       "  <thead>\n",
       "    <tr style=\"text-align: right;\">\n",
       "      <th></th>\n",
       "      <th>ds</th>\n",
       "      <th>yhat</th>\n",
       "      <th>yhat_lower</th>\n",
       "      <th>yhat_upper</th>\n",
       "    </tr>\n",
       "  </thead>\n",
       "  <tbody>\n",
       "    <tr>\n",
       "      <th>1916</th>\n",
       "      <td>2021-12-10 15:58:00</td>\n",
       "      <td>2385.217989</td>\n",
       "      <td>-2377.240693</td>\n",
       "      <td>6663.882663</td>\n",
       "    </tr>\n",
       "    <tr>\n",
       "      <th>1917</th>\n",
       "      <td>2021-12-10 15:58:30</td>\n",
       "      <td>2404.317748</td>\n",
       "      <td>-2612.066149</td>\n",
       "      <td>7008.245907</td>\n",
       "    </tr>\n",
       "    <tr>\n",
       "      <th>1918</th>\n",
       "      <td>2021-12-10 15:59:00</td>\n",
       "      <td>2423.706093</td>\n",
       "      <td>-2591.518273</td>\n",
       "      <td>6906.597615</td>\n",
       "    </tr>\n",
       "    <tr>\n",
       "      <th>1919</th>\n",
       "      <td>2021-12-10 15:59:30</td>\n",
       "      <td>2443.295276</td>\n",
       "      <td>-2658.969402</td>\n",
       "      <td>6978.996968</td>\n",
       "    </tr>\n",
       "    <tr>\n",
       "      <th>1920</th>\n",
       "      <td>2021-12-10 16:00:00</td>\n",
       "      <td>2462.997028</td>\n",
       "      <td>-2603.900921</td>\n",
       "      <td>6748.208350</td>\n",
       "    </tr>\n",
       "  </tbody>\n",
       "</table>\n",
       "</div>"
      ],
      "text/plain": [
       "                      ds         yhat   yhat_lower   yhat_upper\n",
       "1916 2021-12-10 15:58:00  2385.217989 -2377.240693  6663.882663\n",
       "1917 2021-12-10 15:58:30  2404.317748 -2612.066149  7008.245907\n",
       "1918 2021-12-10 15:59:00  2423.706093 -2591.518273  6906.597615\n",
       "1919 2021-12-10 15:59:30  2443.295276 -2658.969402  6978.996968\n",
       "1920 2021-12-10 16:00:00  2462.997028 -2603.900921  6748.208350"
      ]
     },
     "execution_count": 8,
     "metadata": {},
     "output_type": "execute_result"
    }
   ],
   "source": [
    "df.tail()"
   ]
  },
  {
   "cell_type": "markdown",
   "metadata": {},
   "source": [
    "## 1st Use Case: Identical Timestamps"
   ]
  },
  {
   "cell_type": "markdown",
   "metadata": {},
   "source": [
    "create df for the first use case: slice by integer multiples of the period time (such that we have identical timestamps):"
   ]
  },
  {
   "cell_type": "code",
   "execution_count": 9,
   "metadata": {},
   "outputs": [
    {
     "data": {
      "text/html": [
       "<div>\n",
       "<style scoped>\n",
       "    .dataframe tbody tr th:only-of-type {\n",
       "        vertical-align: middle;\n",
       "    }\n",
       "\n",
       "    .dataframe tbody tr th {\n",
       "        vertical-align: top;\n",
       "    }\n",
       "\n",
       "    .dataframe thead th {\n",
       "        text-align: right;\n",
       "    }\n",
       "</style>\n",
       "<table border=\"1\" class=\"dataframe\">\n",
       "  <thead>\n",
       "    <tr style=\"text-align: right;\">\n",
       "      <th></th>\n",
       "      <th>ds</th>\n",
       "      <th>yhat</th>\n",
       "      <th>yhat_lower</th>\n",
       "      <th>yhat_upper</th>\n",
       "    </tr>\n",
       "  </thead>\n",
       "  <tbody>\n",
       "    <tr>\n",
       "      <th>1800</th>\n",
       "      <td>2021-12-10 15:00:00</td>\n",
       "      <td>2684.659331</td>\n",
       "      <td>638.053123</td>\n",
       "      <td>4503.403590</td>\n",
       "    </tr>\n",
       "    <tr>\n",
       "      <th>1801</th>\n",
       "      <td>2021-12-10 15:00:30</td>\n",
       "      <td>2632.651066</td>\n",
       "      <td>711.869864</td>\n",
       "      <td>4454.511461</td>\n",
       "    </tr>\n",
       "    <tr>\n",
       "      <th>1802</th>\n",
       "      <td>2021-12-10 15:01:00</td>\n",
       "      <td>2581.149742</td>\n",
       "      <td>813.374634</td>\n",
       "      <td>4492.459369</td>\n",
       "    </tr>\n",
       "    <tr>\n",
       "      <th>1803</th>\n",
       "      <td>2021-12-10 15:01:30</td>\n",
       "      <td>2530.321788</td>\n",
       "      <td>617.114597</td>\n",
       "      <td>4364.441102</td>\n",
       "    </tr>\n",
       "  </tbody>\n",
       "</table>\n",
       "</div>"
      ],
      "text/plain": [
       "                      ds         yhat  yhat_lower   yhat_upper\n",
       "1800 2021-12-10 15:00:00  2684.659331  638.053123  4503.403590\n",
       "1801 2021-12-10 15:00:30  2632.651066  711.869864  4454.511461\n",
       "1802 2021-12-10 15:01:00  2581.149742  813.374634  4492.459369\n",
       "1803 2021-12-10 15:01:30  2530.321788  617.114597  4364.441102"
      ]
     },
     "execution_count": 9,
     "metadata": {},
     "output_type": "execute_result"
    }
   ],
   "source": [
    "df_out_identical = df[(df['ds'] >= \"2021-12-10 15:00:00\") & (df['ds'] <= \"2021-12-10 15:01:30\")]\n",
    "df_out_identical"
   ]
  },
  {
   "cell_type": "code",
   "execution_count": 10,
   "metadata": {
    "scrolled": false
   },
   "outputs": [
    {
     "data": {
      "text/html": [
       "<div>\n",
       "<style scoped>\n",
       "    .dataframe tbody tr th:only-of-type {\n",
       "        vertical-align: middle;\n",
       "    }\n",
       "\n",
       "    .dataframe tbody tr th {\n",
       "        vertical-align: top;\n",
       "    }\n",
       "\n",
       "    .dataframe thead th {\n",
       "        text-align: right;\n",
       "    }\n",
       "</style>\n",
       "<table border=\"1\" class=\"dataframe\">\n",
       "  <thead>\n",
       "    <tr style=\"text-align: right;\">\n",
       "      <th></th>\n",
       "      <th>ds</th>\n",
       "      <th>yhat</th>\n",
       "      <th>yhat_lower</th>\n",
       "      <th>yhat_upper</th>\n",
       "    </tr>\n",
       "  </thead>\n",
       "  <tbody>\n",
       "    <tr>\n",
       "      <th>0</th>\n",
       "      <td>2021-12-10 15:00:00</td>\n",
       "      <td>2684.659331</td>\n",
       "      <td>638.053123</td>\n",
       "      <td>4503.403590</td>\n",
       "    </tr>\n",
       "    <tr>\n",
       "      <th>1</th>\n",
       "      <td>2021-12-10 15:00:05</td>\n",
       "      <td>2632.651066</td>\n",
       "      <td>711.869864</td>\n",
       "      <td>4454.511461</td>\n",
       "    </tr>\n",
       "    <tr>\n",
       "      <th>2</th>\n",
       "      <td>2021-12-10 15:00:10</td>\n",
       "      <td>2632.651066</td>\n",
       "      <td>711.869864</td>\n",
       "      <td>4454.511461</td>\n",
       "    </tr>\n",
       "    <tr>\n",
       "      <th>3</th>\n",
       "      <td>2021-12-10 15:00:15</td>\n",
       "      <td>2632.651066</td>\n",
       "      <td>711.869864</td>\n",
       "      <td>4454.511461</td>\n",
       "    </tr>\n",
       "    <tr>\n",
       "      <th>4</th>\n",
       "      <td>2021-12-10 15:00:20</td>\n",
       "      <td>2632.651066</td>\n",
       "      <td>711.869864</td>\n",
       "      <td>4454.511461</td>\n",
       "    </tr>\n",
       "    <tr>\n",
       "      <th>5</th>\n",
       "      <td>2021-12-10 15:00:25</td>\n",
       "      <td>2632.651066</td>\n",
       "      <td>711.869864</td>\n",
       "      <td>4454.511461</td>\n",
       "    </tr>\n",
       "    <tr>\n",
       "      <th>6</th>\n",
       "      <td>2021-12-10 15:00:30</td>\n",
       "      <td>2632.651066</td>\n",
       "      <td>711.869864</td>\n",
       "      <td>4454.511461</td>\n",
       "    </tr>\n",
       "    <tr>\n",
       "      <th>7</th>\n",
       "      <td>2021-12-10 15:00:35</td>\n",
       "      <td>2581.149742</td>\n",
       "      <td>813.374634</td>\n",
       "      <td>4492.459369</td>\n",
       "    </tr>\n",
       "    <tr>\n",
       "      <th>8</th>\n",
       "      <td>2021-12-10 15:00:40</td>\n",
       "      <td>2581.149742</td>\n",
       "      <td>813.374634</td>\n",
       "      <td>4492.459369</td>\n",
       "    </tr>\n",
       "    <tr>\n",
       "      <th>9</th>\n",
       "      <td>2021-12-10 15:00:45</td>\n",
       "      <td>2581.149742</td>\n",
       "      <td>813.374634</td>\n",
       "      <td>4492.459369</td>\n",
       "    </tr>\n",
       "    <tr>\n",
       "      <th>10</th>\n",
       "      <td>2021-12-10 15:00:50</td>\n",
       "      <td>2581.149742</td>\n",
       "      <td>813.374634</td>\n",
       "      <td>4492.459369</td>\n",
       "    </tr>\n",
       "    <tr>\n",
       "      <th>11</th>\n",
       "      <td>2021-12-10 15:00:55</td>\n",
       "      <td>2581.149742</td>\n",
       "      <td>813.374634</td>\n",
       "      <td>4492.459369</td>\n",
       "    </tr>\n",
       "    <tr>\n",
       "      <th>12</th>\n",
       "      <td>2021-12-10 15:01:00</td>\n",
       "      <td>2581.149742</td>\n",
       "      <td>813.374634</td>\n",
       "      <td>4492.459369</td>\n",
       "    </tr>\n",
       "    <tr>\n",
       "      <th>13</th>\n",
       "      <td>2021-12-10 15:01:05</td>\n",
       "      <td>2530.321788</td>\n",
       "      <td>617.114597</td>\n",
       "      <td>4364.441102</td>\n",
       "    </tr>\n",
       "    <tr>\n",
       "      <th>14</th>\n",
       "      <td>2021-12-10 15:01:10</td>\n",
       "      <td>2530.321788</td>\n",
       "      <td>617.114597</td>\n",
       "      <td>4364.441102</td>\n",
       "    </tr>\n",
       "    <tr>\n",
       "      <th>15</th>\n",
       "      <td>2021-12-10 15:01:15</td>\n",
       "      <td>2530.321788</td>\n",
       "      <td>617.114597</td>\n",
       "      <td>4364.441102</td>\n",
       "    </tr>\n",
       "    <tr>\n",
       "      <th>16</th>\n",
       "      <td>2021-12-10 15:01:20</td>\n",
       "      <td>2530.321788</td>\n",
       "      <td>617.114597</td>\n",
       "      <td>4364.441102</td>\n",
       "    </tr>\n",
       "    <tr>\n",
       "      <th>17</th>\n",
       "      <td>2021-12-10 15:01:25</td>\n",
       "      <td>2530.321788</td>\n",
       "      <td>617.114597</td>\n",
       "      <td>4364.441102</td>\n",
       "    </tr>\n",
       "    <tr>\n",
       "      <th>18</th>\n",
       "      <td>2021-12-10 15:01:30</td>\n",
       "      <td>2530.321788</td>\n",
       "      <td>617.114597</td>\n",
       "      <td>4364.441102</td>\n",
       "    </tr>\n",
       "  </tbody>\n",
       "</table>\n",
       "</div>"
      ],
      "text/plain": [
       "                    ds         yhat  yhat_lower   yhat_upper\n",
       "0  2021-12-10 15:00:00  2684.659331  638.053123  4503.403590\n",
       "1  2021-12-10 15:00:05  2632.651066  711.869864  4454.511461\n",
       "2  2021-12-10 15:00:10  2632.651066  711.869864  4454.511461\n",
       "3  2021-12-10 15:00:15  2632.651066  711.869864  4454.511461\n",
       "4  2021-12-10 15:00:20  2632.651066  711.869864  4454.511461\n",
       "5  2021-12-10 15:00:25  2632.651066  711.869864  4454.511461\n",
       "6  2021-12-10 15:00:30  2632.651066  711.869864  4454.511461\n",
       "7  2021-12-10 15:00:35  2581.149742  813.374634  4492.459369\n",
       "8  2021-12-10 15:00:40  2581.149742  813.374634  4492.459369\n",
       "9  2021-12-10 15:00:45  2581.149742  813.374634  4492.459369\n",
       "10 2021-12-10 15:00:50  2581.149742  813.374634  4492.459369\n",
       "11 2021-12-10 15:00:55  2581.149742  813.374634  4492.459369\n",
       "12 2021-12-10 15:01:00  2581.149742  813.374634  4492.459369\n",
       "13 2021-12-10 15:01:05  2530.321788  617.114597  4364.441102\n",
       "14 2021-12-10 15:01:10  2530.321788  617.114597  4364.441102\n",
       "15 2021-12-10 15:01:15  2530.321788  617.114597  4364.441102\n",
       "16 2021-12-10 15:01:20  2530.321788  617.114597  4364.441102\n",
       "17 2021-12-10 15:01:25  2530.321788  617.114597  4364.441102\n",
       "18 2021-12-10 15:01:30  2530.321788  617.114597  4364.441102"
      ]
     },
     "execution_count": 10,
     "metadata": {},
     "output_type": "execute_result"
    }
   ],
   "source": [
    "df_out_identical = df_out_identical.set_index('ds').resample('5s').bfill().reset_index()\n",
    "df_out_identical"
   ]
  },
  {
   "cell_type": "code",
   "execution_count": 11,
   "metadata": {},
   "outputs": [],
   "source": [
    "# df_out_identical.to_csv('test_data/df_out_identical.csv', index=False)"
   ]
  },
  {
   "cell_type": "markdown",
   "metadata": {},
   "source": [
    "the extraction of start and end time in the unit test will be as follow:"
   ]
  },
  {
   "cell_type": "code",
   "execution_count": 12,
   "metadata": {},
   "outputs": [
    {
     "data": {
      "text/plain": [
       "Timestamp('2021-12-10 15:00:00')"
      ]
     },
     "execution_count": 12,
     "metadata": {},
     "output_type": "execute_result"
    }
   ],
   "source": [
    "df_out_identical.ds.iloc[0]"
   ]
  },
  {
   "cell_type": "code",
   "execution_count": 13,
   "metadata": {},
   "outputs": [
    {
     "data": {
      "text/plain": [
       "Timestamp('2021-12-10 15:01:30')"
      ]
     },
     "execution_count": 13,
     "metadata": {},
     "output_type": "execute_result"
    }
   ],
   "source": [
    "df_out_identical.ds.iloc[-1]"
   ]
  },
  {
   "cell_type": "markdown",
   "metadata": {},
   "source": [
    "## 2nd Use Case: Non-Identical Timestamps"
   ]
  },
  {
   "cell_type": "markdown",
   "metadata": {},
   "source": [
    "second use case - start and end time are not integer multiples of the period time:"
   ]
  },
  {
   "cell_type": "code",
   "execution_count": 14,
   "metadata": {
    "scrolled": true
   },
   "outputs": [
    {
     "data": {
      "text/html": [
       "<div>\n",
       "<style scoped>\n",
       "    .dataframe tbody tr th:only-of-type {\n",
       "        vertical-align: middle;\n",
       "    }\n",
       "\n",
       "    .dataframe tbody tr th {\n",
       "        vertical-align: top;\n",
       "    }\n",
       "\n",
       "    .dataframe thead th {\n",
       "        text-align: right;\n",
       "    }\n",
       "</style>\n",
       "<table border=\"1\" class=\"dataframe\">\n",
       "  <thead>\n",
       "    <tr style=\"text-align: right;\">\n",
       "      <th></th>\n",
       "      <th>ds</th>\n",
       "      <th>yhat</th>\n",
       "      <th>yhat_lower</th>\n",
       "      <th>yhat_upper</th>\n",
       "    </tr>\n",
       "  </thead>\n",
       "  <tbody>\n",
       "    <tr>\n",
       "      <th>0</th>\n",
       "      <td>2021-12-10 15:00:10</td>\n",
       "      <td>2632.651066</td>\n",
       "      <td>711.869864</td>\n",
       "      <td>4454.511461</td>\n",
       "    </tr>\n",
       "    <tr>\n",
       "      <th>1</th>\n",
       "      <td>2021-12-10 15:00:15</td>\n",
       "      <td>2632.651066</td>\n",
       "      <td>711.869864</td>\n",
       "      <td>4454.511461</td>\n",
       "    </tr>\n",
       "    <tr>\n",
       "      <th>2</th>\n",
       "      <td>2021-12-10 15:00:20</td>\n",
       "      <td>2632.651066</td>\n",
       "      <td>711.869864</td>\n",
       "      <td>4454.511461</td>\n",
       "    </tr>\n",
       "    <tr>\n",
       "      <th>3</th>\n",
       "      <td>2021-12-10 15:00:25</td>\n",
       "      <td>2632.651066</td>\n",
       "      <td>711.869864</td>\n",
       "      <td>4454.511461</td>\n",
       "    </tr>\n",
       "    <tr>\n",
       "      <th>4</th>\n",
       "      <td>2021-12-10 15:00:30</td>\n",
       "      <td>2632.651066</td>\n",
       "      <td>711.869864</td>\n",
       "      <td>4454.511461</td>\n",
       "    </tr>\n",
       "    <tr>\n",
       "      <th>5</th>\n",
       "      <td>2021-12-10 15:00:35</td>\n",
       "      <td>2581.149742</td>\n",
       "      <td>813.374634</td>\n",
       "      <td>4492.459369</td>\n",
       "    </tr>\n",
       "    <tr>\n",
       "      <th>6</th>\n",
       "      <td>2021-12-10 15:00:40</td>\n",
       "      <td>2581.149742</td>\n",
       "      <td>813.374634</td>\n",
       "      <td>4492.459369</td>\n",
       "    </tr>\n",
       "    <tr>\n",
       "      <th>7</th>\n",
       "      <td>2021-12-10 15:00:45</td>\n",
       "      <td>2581.149742</td>\n",
       "      <td>813.374634</td>\n",
       "      <td>4492.459369</td>\n",
       "    </tr>\n",
       "    <tr>\n",
       "      <th>8</th>\n",
       "      <td>2021-12-10 15:00:50</td>\n",
       "      <td>2581.149742</td>\n",
       "      <td>813.374634</td>\n",
       "      <td>4492.459369</td>\n",
       "    </tr>\n",
       "    <tr>\n",
       "      <th>9</th>\n",
       "      <td>2021-12-10 15:00:55</td>\n",
       "      <td>2581.149742</td>\n",
       "      <td>813.374634</td>\n",
       "      <td>4492.459369</td>\n",
       "    </tr>\n",
       "    <tr>\n",
       "      <th>10</th>\n",
       "      <td>2021-12-10 15:01:00</td>\n",
       "      <td>2581.149742</td>\n",
       "      <td>813.374634</td>\n",
       "      <td>4492.459369</td>\n",
       "    </tr>\n",
       "    <tr>\n",
       "      <th>11</th>\n",
       "      <td>2021-12-10 15:01:05</td>\n",
       "      <td>2530.321788</td>\n",
       "      <td>617.114597</td>\n",
       "      <td>4364.441102</td>\n",
       "    </tr>\n",
       "    <tr>\n",
       "      <th>12</th>\n",
       "      <td>2021-12-10 15:01:10</td>\n",
       "      <td>2530.321788</td>\n",
       "      <td>617.114597</td>\n",
       "      <td>4364.441102</td>\n",
       "    </tr>\n",
       "    <tr>\n",
       "      <th>13</th>\n",
       "      <td>2021-12-10 15:01:15</td>\n",
       "      <td>2530.321788</td>\n",
       "      <td>617.114597</td>\n",
       "      <td>4364.441102</td>\n",
       "    </tr>\n",
       "  </tbody>\n",
       "</table>\n",
       "</div>"
      ],
      "text/plain": [
       "                    ds         yhat  yhat_lower   yhat_upper\n",
       "0  2021-12-10 15:00:10  2632.651066  711.869864  4454.511461\n",
       "1  2021-12-10 15:00:15  2632.651066  711.869864  4454.511461\n",
       "2  2021-12-10 15:00:20  2632.651066  711.869864  4454.511461\n",
       "3  2021-12-10 15:00:25  2632.651066  711.869864  4454.511461\n",
       "4  2021-12-10 15:00:30  2632.651066  711.869864  4454.511461\n",
       "5  2021-12-10 15:00:35  2581.149742  813.374634  4492.459369\n",
       "6  2021-12-10 15:00:40  2581.149742  813.374634  4492.459369\n",
       "7  2021-12-10 15:00:45  2581.149742  813.374634  4492.459369\n",
       "8  2021-12-10 15:00:50  2581.149742  813.374634  4492.459369\n",
       "9  2021-12-10 15:00:55  2581.149742  813.374634  4492.459369\n",
       "10 2021-12-10 15:01:00  2581.149742  813.374634  4492.459369\n",
       "11 2021-12-10 15:01:05  2530.321788  617.114597  4364.441102\n",
       "12 2021-12-10 15:01:10  2530.321788  617.114597  4364.441102\n",
       "13 2021-12-10 15:01:15  2530.321788  617.114597  4364.441102"
      ]
     },
     "execution_count": 14,
     "metadata": {},
     "output_type": "execute_result"
    }
   ],
   "source": [
    "df_out_not_identical = df_out_identical[2:16].reset_index(drop=True)\n",
    "df_out_not_identical"
   ]
  },
  {
   "cell_type": "code",
   "execution_count": 15,
   "metadata": {},
   "outputs": [],
   "source": [
    "# df_out_not_identical.to_csv('test_data/df_out_not_identical.csv', index=False)"
   ]
  },
  {
   "cell_type": "markdown",
   "metadata": {},
   "source": [
    "## 3rd Use-Case: relative timestamps"
   ]
  },
  {
   "cell_type": "markdown",
   "metadata": {},
   "source": [
    "This is the main use-case where end time is now() and start_time is relative to it (like 10 minutes). since we use historic data frame we cannot use now() but we can simulate it by using complete timestamps with milliseconds:"
   ]
  },
  {
   "cell_type": "code",
   "execution_count": 16,
   "metadata": {},
   "outputs": [
    {
     "name": "stdout",
     "output_type": "stream",
     "text": [
      "2021-12-10 14:59:56.387975872, 2021-12-10 15:01:32.869881381\n"
     ]
    }
   ],
   "source": [
    "start_time = df_out_identical.ds.iloc[0] - pd.Timedelta(5000 * np.random.rand(), 'ms')\n",
    "end_time = df_out_identical.ds.iloc[-1] + pd.Timedelta(5000 * np.random.rand(), 'ms')\n",
    "print(f\"{start_time}, {end_time}\")"
   ]
  },
  {
   "cell_type": "markdown",
   "metadata": {},
   "source": [
    "using the above simulated timestamps we expect to get the same dataframe as in the first use-case (identical timestamps)"
   ]
  },
  {
   "cell_type": "code",
   "execution_count": 17,
   "metadata": {},
   "outputs": [
    {
     "data": {
      "text/html": [
       "<div>\n",
       "<style scoped>\n",
       "    .dataframe tbody tr th:only-of-type {\n",
       "        vertical-align: middle;\n",
       "    }\n",
       "\n",
       "    .dataframe tbody tr th {\n",
       "        vertical-align: top;\n",
       "    }\n",
       "\n",
       "    .dataframe thead th {\n",
       "        text-align: right;\n",
       "    }\n",
       "</style>\n",
       "<table border=\"1\" class=\"dataframe\">\n",
       "  <thead>\n",
       "    <tr style=\"text-align: right;\">\n",
       "      <th></th>\n",
       "      <th>yhat</th>\n",
       "      <th>yhat_lower</th>\n",
       "      <th>yhat_upper</th>\n",
       "    </tr>\n",
       "    <tr>\n",
       "      <th>ds</th>\n",
       "      <th></th>\n",
       "      <th></th>\n",
       "      <th></th>\n",
       "    </tr>\n",
       "  </thead>\n",
       "  <tbody>\n",
       "    <tr>\n",
       "      <th>2021-12-10 15:00:00</th>\n",
       "      <td>2684.659331</td>\n",
       "      <td>638.053123</td>\n",
       "      <td>4503.403590</td>\n",
       "    </tr>\n",
       "    <tr>\n",
       "      <th>2021-12-10 15:00:05</th>\n",
       "      <td>2632.651066</td>\n",
       "      <td>711.869864</td>\n",
       "      <td>4454.511461</td>\n",
       "    </tr>\n",
       "    <tr>\n",
       "      <th>2021-12-10 15:00:10</th>\n",
       "      <td>2632.651066</td>\n",
       "      <td>711.869864</td>\n",
       "      <td>4454.511461</td>\n",
       "    </tr>\n",
       "    <tr>\n",
       "      <th>2021-12-10 15:00:15</th>\n",
       "      <td>2632.651066</td>\n",
       "      <td>711.869864</td>\n",
       "      <td>4454.511461</td>\n",
       "    </tr>\n",
       "    <tr>\n",
       "      <th>2021-12-10 15:00:20</th>\n",
       "      <td>2632.651066</td>\n",
       "      <td>711.869864</td>\n",
       "      <td>4454.511461</td>\n",
       "    </tr>\n",
       "    <tr>\n",
       "      <th>2021-12-10 15:00:25</th>\n",
       "      <td>2632.651066</td>\n",
       "      <td>711.869864</td>\n",
       "      <td>4454.511461</td>\n",
       "    </tr>\n",
       "    <tr>\n",
       "      <th>2021-12-10 15:00:30</th>\n",
       "      <td>2632.651066</td>\n",
       "      <td>711.869864</td>\n",
       "      <td>4454.511461</td>\n",
       "    </tr>\n",
       "    <tr>\n",
       "      <th>2021-12-10 15:00:35</th>\n",
       "      <td>2581.149742</td>\n",
       "      <td>813.374634</td>\n",
       "      <td>4492.459369</td>\n",
       "    </tr>\n",
       "    <tr>\n",
       "      <th>2021-12-10 15:00:40</th>\n",
       "      <td>2581.149742</td>\n",
       "      <td>813.374634</td>\n",
       "      <td>4492.459369</td>\n",
       "    </tr>\n",
       "    <tr>\n",
       "      <th>2021-12-10 15:00:45</th>\n",
       "      <td>2581.149742</td>\n",
       "      <td>813.374634</td>\n",
       "      <td>4492.459369</td>\n",
       "    </tr>\n",
       "    <tr>\n",
       "      <th>2021-12-10 15:00:50</th>\n",
       "      <td>2581.149742</td>\n",
       "      <td>813.374634</td>\n",
       "      <td>4492.459369</td>\n",
       "    </tr>\n",
       "    <tr>\n",
       "      <th>2021-12-10 15:00:55</th>\n",
       "      <td>2581.149742</td>\n",
       "      <td>813.374634</td>\n",
       "      <td>4492.459369</td>\n",
       "    </tr>\n",
       "    <tr>\n",
       "      <th>2021-12-10 15:01:00</th>\n",
       "      <td>2581.149742</td>\n",
       "      <td>813.374634</td>\n",
       "      <td>4492.459369</td>\n",
       "    </tr>\n",
       "    <tr>\n",
       "      <th>2021-12-10 15:01:05</th>\n",
       "      <td>2530.321788</td>\n",
       "      <td>617.114597</td>\n",
       "      <td>4364.441102</td>\n",
       "    </tr>\n",
       "    <tr>\n",
       "      <th>2021-12-10 15:01:10</th>\n",
       "      <td>2530.321788</td>\n",
       "      <td>617.114597</td>\n",
       "      <td>4364.441102</td>\n",
       "    </tr>\n",
       "    <tr>\n",
       "      <th>2021-12-10 15:01:15</th>\n",
       "      <td>2530.321788</td>\n",
       "      <td>617.114597</td>\n",
       "      <td>4364.441102</td>\n",
       "    </tr>\n",
       "    <tr>\n",
       "      <th>2021-12-10 15:01:20</th>\n",
       "      <td>2530.321788</td>\n",
       "      <td>617.114597</td>\n",
       "      <td>4364.441102</td>\n",
       "    </tr>\n",
       "    <tr>\n",
       "      <th>2021-12-10 15:01:25</th>\n",
       "      <td>2530.321788</td>\n",
       "      <td>617.114597</td>\n",
       "      <td>4364.441102</td>\n",
       "    </tr>\n",
       "    <tr>\n",
       "      <th>2021-12-10 15:01:30</th>\n",
       "      <td>2530.321788</td>\n",
       "      <td>617.114597</td>\n",
       "      <td>4364.441102</td>\n",
       "    </tr>\n",
       "  </tbody>\n",
       "</table>\n",
       "</div>"
      ],
      "text/plain": [
       "                            yhat  yhat_lower   yhat_upper\n",
       "ds                                                       \n",
       "2021-12-10 15:00:00  2684.659331  638.053123  4503.403590\n",
       "2021-12-10 15:00:05  2632.651066  711.869864  4454.511461\n",
       "2021-12-10 15:00:10  2632.651066  711.869864  4454.511461\n",
       "2021-12-10 15:00:15  2632.651066  711.869864  4454.511461\n",
       "2021-12-10 15:00:20  2632.651066  711.869864  4454.511461\n",
       "2021-12-10 15:00:25  2632.651066  711.869864  4454.511461\n",
       "2021-12-10 15:00:30  2632.651066  711.869864  4454.511461\n",
       "2021-12-10 15:00:35  2581.149742  813.374634  4492.459369\n",
       "2021-12-10 15:00:40  2581.149742  813.374634  4492.459369\n",
       "2021-12-10 15:00:45  2581.149742  813.374634  4492.459369\n",
       "2021-12-10 15:00:50  2581.149742  813.374634  4492.459369\n",
       "2021-12-10 15:00:55  2581.149742  813.374634  4492.459369\n",
       "2021-12-10 15:01:00  2581.149742  813.374634  4492.459369\n",
       "2021-12-10 15:01:05  2530.321788  617.114597  4364.441102\n",
       "2021-12-10 15:01:10  2530.321788  617.114597  4364.441102\n",
       "2021-12-10 15:01:15  2530.321788  617.114597  4364.441102\n",
       "2021-12-10 15:01:20  2530.321788  617.114597  4364.441102\n",
       "2021-12-10 15:01:25  2530.321788  617.114597  4364.441102\n",
       "2021-12-10 15:01:30  2530.321788  617.114597  4364.441102"
      ]
     },
     "execution_count": 17,
     "metadata": {},
     "output_type": "execute_result"
    }
   ],
   "source": [
    "df.set_index('ds').resample('5s').bfill()[start_time:end_time]"
   ]
  },
  {
   "cell_type": "markdown",
   "metadata": {},
   "source": [
    "Notice the built-in support of pandas in indexing with timestamps which are not identical to the ones that are in the df index. In this case pandas acts with the natural behaviour which is to take the nearest indexes (the nearest higher one at the start of the slice and the nearest lower one at the end)"
   ]
  },
  {
   "cell_type": "markdown",
   "metadata": {},
   "source": [
    "## edge-case 1: same start and end time, identical timestamp"
   ]
  },
  {
   "cell_type": "code",
   "execution_count": 18,
   "metadata": {},
   "outputs": [
    {
     "data": {
      "text/html": [
       "<div>\n",
       "<style scoped>\n",
       "    .dataframe tbody tr th:only-of-type {\n",
       "        vertical-align: middle;\n",
       "    }\n",
       "\n",
       "    .dataframe tbody tr th {\n",
       "        vertical-align: top;\n",
       "    }\n",
       "\n",
       "    .dataframe thead th {\n",
       "        text-align: right;\n",
       "    }\n",
       "</style>\n",
       "<table border=\"1\" class=\"dataframe\">\n",
       "  <thead>\n",
       "    <tr style=\"text-align: right;\">\n",
       "      <th></th>\n",
       "      <th>ds</th>\n",
       "      <th>yhat</th>\n",
       "      <th>yhat_lower</th>\n",
       "      <th>yhat_upper</th>\n",
       "    </tr>\n",
       "  </thead>\n",
       "  <tbody>\n",
       "    <tr>\n",
       "      <th>6</th>\n",
       "      <td>2021-12-10 15:00:30</td>\n",
       "      <td>2632.651066</td>\n",
       "      <td>711.869864</td>\n",
       "      <td>4454.511461</td>\n",
       "    </tr>\n",
       "  </tbody>\n",
       "</table>\n",
       "</div>"
      ],
      "text/plain": [
       "                   ds         yhat  yhat_lower   yhat_upper\n",
       "6 2021-12-10 15:00:30  2632.651066  711.869864  4454.511461"
      ]
     },
     "execution_count": 18,
     "metadata": {},
     "output_type": "execute_result"
    }
   ],
   "source": [
    "df_out_identical.iloc[6:7]"
   ]
  },
  {
   "cell_type": "code",
   "execution_count": 19,
   "metadata": {},
   "outputs": [],
   "source": [
    "# df_out_identical.iloc[6:7].to_csv('test_data/df_out_one_row_identical.csv', index=False)"
   ]
  },
  {
   "cell_type": "markdown",
   "metadata": {},
   "source": [
    "## edge-case 2: same start and end time, non-identical timestamp"
   ]
  },
  {
   "cell_type": "code",
   "execution_count": 20,
   "metadata": {},
   "outputs": [
    {
     "data": {
      "text/html": [
       "<div>\n",
       "<style scoped>\n",
       "    .dataframe tbody tr th:only-of-type {\n",
       "        vertical-align: middle;\n",
       "    }\n",
       "\n",
       "    .dataframe tbody tr th {\n",
       "        vertical-align: top;\n",
       "    }\n",
       "\n",
       "    .dataframe thead th {\n",
       "        text-align: right;\n",
       "    }\n",
       "</style>\n",
       "<table border=\"1\" class=\"dataframe\">\n",
       "  <thead>\n",
       "    <tr style=\"text-align: right;\">\n",
       "      <th></th>\n",
       "      <th>ds</th>\n",
       "      <th>yhat</th>\n",
       "      <th>yhat_lower</th>\n",
       "      <th>yhat_upper</th>\n",
       "    </tr>\n",
       "  </thead>\n",
       "  <tbody>\n",
       "    <tr>\n",
       "      <th>7</th>\n",
       "      <td>2021-12-10 15:00:35</td>\n",
       "      <td>2581.149742</td>\n",
       "      <td>813.374634</td>\n",
       "      <td>4492.459369</td>\n",
       "    </tr>\n",
       "  </tbody>\n",
       "</table>\n",
       "</div>"
      ],
      "text/plain": [
       "                   ds         yhat  yhat_lower   yhat_upper\n",
       "7 2021-12-10 15:00:35  2581.149742  813.374634  4492.459369"
      ]
     },
     "execution_count": 20,
     "metadata": {},
     "output_type": "execute_result"
    }
   ],
   "source": [
    "df_out_identical.iloc[7:8]"
   ]
  },
  {
   "cell_type": "code",
   "execution_count": 21,
   "metadata": {},
   "outputs": [],
   "source": [
    "# df_out_identical.iloc[7:8].to_csv('test_data/df_out_one_row_non_identical.csv', index=False)"
   ]
  },
  {
   "cell_type": "code",
   "execution_count": 22,
   "metadata": {},
   "outputs": [
    {
     "data": {
      "text/plain": [
       "RangeIndex(start=0, stop=1, step=1)"
      ]
     },
     "execution_count": 22,
     "metadata": {},
     "output_type": "execute_result"
    }
   ],
   "source": [
    "pd.read_csv('test_data/df_out_one_row_non_identical.csv').index"
   ]
  },
  {
   "cell_type": "markdown",
   "metadata": {},
   "source": [
    "## edge-case 3: same start and end time, ms-percision timestamps"
   ]
  },
  {
   "cell_type": "markdown",
   "metadata": {},
   "source": [
    "in this case we expect to get empty df:"
   ]
  },
  {
   "cell_type": "code",
   "execution_count": 23,
   "metadata": {},
   "outputs": [
    {
     "data": {
      "text/html": [
       "<div>\n",
       "<style scoped>\n",
       "    .dataframe tbody tr th:only-of-type {\n",
       "        vertical-align: middle;\n",
       "    }\n",
       "\n",
       "    .dataframe tbody tr th {\n",
       "        vertical-align: top;\n",
       "    }\n",
       "\n",
       "    .dataframe thead th {\n",
       "        text-align: right;\n",
       "    }\n",
       "</style>\n",
       "<table border=\"1\" class=\"dataframe\">\n",
       "  <thead>\n",
       "    <tr style=\"text-align: right;\">\n",
       "      <th></th>\n",
       "      <th>ds</th>\n",
       "      <th>yhat</th>\n",
       "      <th>yhat_lower</th>\n",
       "      <th>yhat_upper</th>\n",
       "    </tr>\n",
       "  </thead>\n",
       "  <tbody>\n",
       "  </tbody>\n",
       "</table>\n",
       "</div>"
      ],
      "text/plain": [
       "Empty DataFrame\n",
       "Columns: [ds, yhat, yhat_lower, yhat_upper]\n",
       "Index: []"
      ]
     },
     "execution_count": 23,
     "metadata": {},
     "output_type": "execute_result"
    }
   ],
   "source": [
    "df_empty = df_out_identical.iloc[8:8]\n",
    "df_empty"
   ]
  },
  {
   "cell_type": "code",
   "execution_count": 24,
   "metadata": {},
   "outputs": [],
   "source": [
    "# df_empty.to_csv('test_data/df_out_empty.csv', index=False)"
   ]
  },
  {
   "cell_type": "code",
   "execution_count": 25,
   "metadata": {},
   "outputs": [
    {
     "data": {
      "text/plain": [
       "ds            object\n",
       "yhat          object\n",
       "yhat_lower    object\n",
       "yhat_upper    object\n",
       "dtype: object"
      ]
     },
     "execution_count": 25,
     "metadata": {},
     "output_type": "execute_result"
    }
   ],
   "source": [
    "pd.read_csv('test_data/df_out_empty.csv', parse_dates=['ds']).dtypes"
   ]
  },
  {
   "cell_type": "markdown",
   "metadata": {},
   "source": [
    "## edge-case 4: start timestamp in range, end timestamp out of range"
   ]
  },
  {
   "cell_type": "code",
   "execution_count": 26,
   "metadata": {},
   "outputs": [
    {
     "data": {
      "text/html": [
       "<div>\n",
       "<style scoped>\n",
       "    .dataframe tbody tr th:only-of-type {\n",
       "        vertical-align: middle;\n",
       "    }\n",
       "\n",
       "    .dataframe tbody tr th {\n",
       "        vertical-align: top;\n",
       "    }\n",
       "\n",
       "    .dataframe thead th {\n",
       "        text-align: right;\n",
       "    }\n",
       "</style>\n",
       "<table border=\"1\" class=\"dataframe\">\n",
       "  <thead>\n",
       "    <tr style=\"text-align: right;\">\n",
       "      <th></th>\n",
       "      <th>ds</th>\n",
       "      <th>yhat</th>\n",
       "      <th>yhat_lower</th>\n",
       "      <th>yhat_upper</th>\n",
       "    </tr>\n",
       "  </thead>\n",
       "  <tbody>\n",
       "    <tr>\n",
       "      <th>1917</th>\n",
       "      <td>2021-12-10 15:58:30</td>\n",
       "      <td>2404.317748</td>\n",
       "      <td>-2612.066149</td>\n",
       "      <td>7008.245907</td>\n",
       "    </tr>\n",
       "    <tr>\n",
       "      <th>1918</th>\n",
       "      <td>2021-12-10 15:59:00</td>\n",
       "      <td>2423.706093</td>\n",
       "      <td>-2591.518273</td>\n",
       "      <td>6906.597615</td>\n",
       "    </tr>\n",
       "    <tr>\n",
       "      <th>1919</th>\n",
       "      <td>2021-12-10 15:59:30</td>\n",
       "      <td>2443.295276</td>\n",
       "      <td>-2658.969402</td>\n",
       "      <td>6978.996968</td>\n",
       "    </tr>\n",
       "    <tr>\n",
       "      <th>1920</th>\n",
       "      <td>2021-12-10 16:00:00</td>\n",
       "      <td>2462.997028</td>\n",
       "      <td>-2603.900921</td>\n",
       "      <td>6748.208350</td>\n",
       "    </tr>\n",
       "  </tbody>\n",
       "</table>\n",
       "</div>"
      ],
      "text/plain": [
       "                      ds         yhat   yhat_lower   yhat_upper\n",
       "1917 2021-12-10 15:58:30  2404.317748 -2612.066149  7008.245907\n",
       "1918 2021-12-10 15:59:00  2423.706093 -2591.518273  6906.597615\n",
       "1919 2021-12-10 15:59:30  2443.295276 -2658.969402  6978.996968\n",
       "1920 2021-12-10 16:00:00  2462.997028 -2603.900921  6748.208350"
      ]
     },
     "execution_count": 26,
     "metadata": {},
     "output_type": "execute_result"
    }
   ],
   "source": [
    "df_out_tail = df[df['ds'] >= \"2021-12-10 15:58:30\"]\n",
    "df_out_tail"
   ]
  },
  {
   "cell_type": "code",
   "execution_count": 27,
   "metadata": {
    "scrolled": false
   },
   "outputs": [
    {
     "data": {
      "text/html": [
       "<div>\n",
       "<style scoped>\n",
       "    .dataframe tbody tr th:only-of-type {\n",
       "        vertical-align: middle;\n",
       "    }\n",
       "\n",
       "    .dataframe tbody tr th {\n",
       "        vertical-align: top;\n",
       "    }\n",
       "\n",
       "    .dataframe thead th {\n",
       "        text-align: right;\n",
       "    }\n",
       "</style>\n",
       "<table border=\"1\" class=\"dataframe\">\n",
       "  <thead>\n",
       "    <tr style=\"text-align: right;\">\n",
       "      <th></th>\n",
       "      <th>ds</th>\n",
       "      <th>yhat</th>\n",
       "      <th>yhat_lower</th>\n",
       "      <th>yhat_upper</th>\n",
       "    </tr>\n",
       "  </thead>\n",
       "  <tbody>\n",
       "    <tr>\n",
       "      <th>0</th>\n",
       "      <td>2021-12-10 15:58:30</td>\n",
       "      <td>2404.317748</td>\n",
       "      <td>-2612.066149</td>\n",
       "      <td>7008.245907</td>\n",
       "    </tr>\n",
       "    <tr>\n",
       "      <th>1</th>\n",
       "      <td>2021-12-10 15:58:35</td>\n",
       "      <td>2423.706093</td>\n",
       "      <td>-2591.518273</td>\n",
       "      <td>6906.597615</td>\n",
       "    </tr>\n",
       "    <tr>\n",
       "      <th>2</th>\n",
       "      <td>2021-12-10 15:58:40</td>\n",
       "      <td>2423.706093</td>\n",
       "      <td>-2591.518273</td>\n",
       "      <td>6906.597615</td>\n",
       "    </tr>\n",
       "    <tr>\n",
       "      <th>3</th>\n",
       "      <td>2021-12-10 15:58:45</td>\n",
       "      <td>2423.706093</td>\n",
       "      <td>-2591.518273</td>\n",
       "      <td>6906.597615</td>\n",
       "    </tr>\n",
       "    <tr>\n",
       "      <th>4</th>\n",
       "      <td>2021-12-10 15:58:50</td>\n",
       "      <td>2423.706093</td>\n",
       "      <td>-2591.518273</td>\n",
       "      <td>6906.597615</td>\n",
       "    </tr>\n",
       "    <tr>\n",
       "      <th>5</th>\n",
       "      <td>2021-12-10 15:58:55</td>\n",
       "      <td>2423.706093</td>\n",
       "      <td>-2591.518273</td>\n",
       "      <td>6906.597615</td>\n",
       "    </tr>\n",
       "    <tr>\n",
       "      <th>6</th>\n",
       "      <td>2021-12-10 15:59:00</td>\n",
       "      <td>2423.706093</td>\n",
       "      <td>-2591.518273</td>\n",
       "      <td>6906.597615</td>\n",
       "    </tr>\n",
       "    <tr>\n",
       "      <th>7</th>\n",
       "      <td>2021-12-10 15:59:05</td>\n",
       "      <td>2443.295276</td>\n",
       "      <td>-2658.969402</td>\n",
       "      <td>6978.996968</td>\n",
       "    </tr>\n",
       "    <tr>\n",
       "      <th>8</th>\n",
       "      <td>2021-12-10 15:59:10</td>\n",
       "      <td>2443.295276</td>\n",
       "      <td>-2658.969402</td>\n",
       "      <td>6978.996968</td>\n",
       "    </tr>\n",
       "    <tr>\n",
       "      <th>9</th>\n",
       "      <td>2021-12-10 15:59:15</td>\n",
       "      <td>2443.295276</td>\n",
       "      <td>-2658.969402</td>\n",
       "      <td>6978.996968</td>\n",
       "    </tr>\n",
       "    <tr>\n",
       "      <th>10</th>\n",
       "      <td>2021-12-10 15:59:20</td>\n",
       "      <td>2443.295276</td>\n",
       "      <td>-2658.969402</td>\n",
       "      <td>6978.996968</td>\n",
       "    </tr>\n",
       "    <tr>\n",
       "      <th>11</th>\n",
       "      <td>2021-12-10 15:59:25</td>\n",
       "      <td>2443.295276</td>\n",
       "      <td>-2658.969402</td>\n",
       "      <td>6978.996968</td>\n",
       "    </tr>\n",
       "    <tr>\n",
       "      <th>12</th>\n",
       "      <td>2021-12-10 15:59:30</td>\n",
       "      <td>2443.295276</td>\n",
       "      <td>-2658.969402</td>\n",
       "      <td>6978.996968</td>\n",
       "    </tr>\n",
       "    <tr>\n",
       "      <th>13</th>\n",
       "      <td>2021-12-10 15:59:35</td>\n",
       "      <td>2462.997028</td>\n",
       "      <td>-2603.900921</td>\n",
       "      <td>6748.208350</td>\n",
       "    </tr>\n",
       "    <tr>\n",
       "      <th>14</th>\n",
       "      <td>2021-12-10 15:59:40</td>\n",
       "      <td>2462.997028</td>\n",
       "      <td>-2603.900921</td>\n",
       "      <td>6748.208350</td>\n",
       "    </tr>\n",
       "    <tr>\n",
       "      <th>15</th>\n",
       "      <td>2021-12-10 15:59:45</td>\n",
       "      <td>2462.997028</td>\n",
       "      <td>-2603.900921</td>\n",
       "      <td>6748.208350</td>\n",
       "    </tr>\n",
       "    <tr>\n",
       "      <th>16</th>\n",
       "      <td>2021-12-10 15:59:50</td>\n",
       "      <td>2462.997028</td>\n",
       "      <td>-2603.900921</td>\n",
       "      <td>6748.208350</td>\n",
       "    </tr>\n",
       "    <tr>\n",
       "      <th>17</th>\n",
       "      <td>2021-12-10 15:59:55</td>\n",
       "      <td>2462.997028</td>\n",
       "      <td>-2603.900921</td>\n",
       "      <td>6748.208350</td>\n",
       "    </tr>\n",
       "    <tr>\n",
       "      <th>18</th>\n",
       "      <td>2021-12-10 16:00:00</td>\n",
       "      <td>2462.997028</td>\n",
       "      <td>-2603.900921</td>\n",
       "      <td>6748.208350</td>\n",
       "    </tr>\n",
       "  </tbody>\n",
       "</table>\n",
       "</div>"
      ],
      "text/plain": [
       "                    ds         yhat   yhat_lower   yhat_upper\n",
       "0  2021-12-10 15:58:30  2404.317748 -2612.066149  7008.245907\n",
       "1  2021-12-10 15:58:35  2423.706093 -2591.518273  6906.597615\n",
       "2  2021-12-10 15:58:40  2423.706093 -2591.518273  6906.597615\n",
       "3  2021-12-10 15:58:45  2423.706093 -2591.518273  6906.597615\n",
       "4  2021-12-10 15:58:50  2423.706093 -2591.518273  6906.597615\n",
       "5  2021-12-10 15:58:55  2423.706093 -2591.518273  6906.597615\n",
       "6  2021-12-10 15:59:00  2423.706093 -2591.518273  6906.597615\n",
       "7  2021-12-10 15:59:05  2443.295276 -2658.969402  6978.996968\n",
       "8  2021-12-10 15:59:10  2443.295276 -2658.969402  6978.996968\n",
       "9  2021-12-10 15:59:15  2443.295276 -2658.969402  6978.996968\n",
       "10 2021-12-10 15:59:20  2443.295276 -2658.969402  6978.996968\n",
       "11 2021-12-10 15:59:25  2443.295276 -2658.969402  6978.996968\n",
       "12 2021-12-10 15:59:30  2443.295276 -2658.969402  6978.996968\n",
       "13 2021-12-10 15:59:35  2462.997028 -2603.900921  6748.208350\n",
       "14 2021-12-10 15:59:40  2462.997028 -2603.900921  6748.208350\n",
       "15 2021-12-10 15:59:45  2462.997028 -2603.900921  6748.208350\n",
       "16 2021-12-10 15:59:50  2462.997028 -2603.900921  6748.208350\n",
       "17 2021-12-10 15:59:55  2462.997028 -2603.900921  6748.208350\n",
       "18 2021-12-10 16:00:00  2462.997028 -2603.900921  6748.208350"
      ]
     },
     "execution_count": 27,
     "metadata": {},
     "output_type": "execute_result"
    }
   ],
   "source": [
    "df_out_tail = df_out_tail.set_index('ds').resample('5s').bfill().reset_index()\n",
    "df_out_tail"
   ]
  },
  {
   "cell_type": "code",
   "execution_count": 28,
   "metadata": {},
   "outputs": [],
   "source": [
    "# df_out_tail.to_csv('test_data/df_out_tail.csv', index=False)"
   ]
  },
  {
   "cell_type": "markdown",
   "metadata": {},
   "source": [
    "## edge-case 5: start timestamp before range, end timestamp in range"
   ]
  },
  {
   "cell_type": "code",
   "execution_count": 29,
   "metadata": {},
   "outputs": [
    {
     "data": {
      "text/html": [
       "<div>\n",
       "<style scoped>\n",
       "    .dataframe tbody tr th:only-of-type {\n",
       "        vertical-align: middle;\n",
       "    }\n",
       "\n",
       "    .dataframe tbody tr th {\n",
       "        vertical-align: top;\n",
       "    }\n",
       "\n",
       "    .dataframe thead th {\n",
       "        text-align: right;\n",
       "    }\n",
       "</style>\n",
       "<table border=\"1\" class=\"dataframe\">\n",
       "  <thead>\n",
       "    <tr style=\"text-align: right;\">\n",
       "      <th></th>\n",
       "      <th>ds</th>\n",
       "      <th>yhat</th>\n",
       "      <th>yhat_lower</th>\n",
       "      <th>yhat_upper</th>\n",
       "    </tr>\n",
       "  </thead>\n",
       "  <tbody>\n",
       "    <tr>\n",
       "      <th>1681</th>\n",
       "      <td>2021-12-10 14:00:30</td>\n",
       "      <td>2786.236983</td>\n",
       "      <td>1963.141442</td>\n",
       "      <td>3607.608634</td>\n",
       "    </tr>\n",
       "    <tr>\n",
       "      <th>1682</th>\n",
       "      <td>2021-12-10 14:01:00</td>\n",
       "      <td>2805.900209</td>\n",
       "      <td>2006.692185</td>\n",
       "      <td>3543.498044</td>\n",
       "    </tr>\n",
       "    <tr>\n",
       "      <th>1683</th>\n",
       "      <td>2021-12-10 14:01:30</td>\n",
       "      <td>2825.414385</td>\n",
       "      <td>1974.111814</td>\n",
       "      <td>3615.091469</td>\n",
       "    </tr>\n",
       "    <tr>\n",
       "      <th>1684</th>\n",
       "      <td>2021-12-10 14:02:00</td>\n",
       "      <td>2844.695356</td>\n",
       "      <td>2078.776026</td>\n",
       "      <td>3637.382563</td>\n",
       "    </tr>\n",
       "  </tbody>\n",
       "</table>\n",
       "</div>"
      ],
      "text/plain": [
       "                      ds         yhat   yhat_lower   yhat_upper\n",
       "1681 2021-12-10 14:00:30  2786.236983  1963.141442  3607.608634\n",
       "1682 2021-12-10 14:01:00  2805.900209  2006.692185  3543.498044\n",
       "1683 2021-12-10 14:01:30  2825.414385  1974.111814  3615.091469\n",
       "1684 2021-12-10 14:02:00  2844.695356  2078.776026  3637.382563"
      ]
     },
     "execution_count": 29,
     "metadata": {},
     "output_type": "execute_result"
    }
   ],
   "source": [
    "df_out_head = df[df['ds'] <= \"2021-12-10 14:02:00\"]\n",
    "df_out_head"
   ]
  },
  {
   "cell_type": "code",
   "execution_count": 30,
   "metadata": {
    "scrolled": false
   },
   "outputs": [
    {
     "data": {
      "text/html": [
       "<div>\n",
       "<style scoped>\n",
       "    .dataframe tbody tr th:only-of-type {\n",
       "        vertical-align: middle;\n",
       "    }\n",
       "\n",
       "    .dataframe tbody tr th {\n",
       "        vertical-align: top;\n",
       "    }\n",
       "\n",
       "    .dataframe thead th {\n",
       "        text-align: right;\n",
       "    }\n",
       "</style>\n",
       "<table border=\"1\" class=\"dataframe\">\n",
       "  <thead>\n",
       "    <tr style=\"text-align: right;\">\n",
       "      <th></th>\n",
       "      <th>ds</th>\n",
       "      <th>yhat</th>\n",
       "      <th>yhat_lower</th>\n",
       "      <th>yhat_upper</th>\n",
       "    </tr>\n",
       "  </thead>\n",
       "  <tbody>\n",
       "    <tr>\n",
       "      <th>0</th>\n",
       "      <td>2021-12-10 14:00:30</td>\n",
       "      <td>2786.236983</td>\n",
       "      <td>1963.141442</td>\n",
       "      <td>3607.608634</td>\n",
       "    </tr>\n",
       "    <tr>\n",
       "      <th>1</th>\n",
       "      <td>2021-12-10 14:00:35</td>\n",
       "      <td>2805.900209</td>\n",
       "      <td>2006.692185</td>\n",
       "      <td>3543.498044</td>\n",
       "    </tr>\n",
       "    <tr>\n",
       "      <th>2</th>\n",
       "      <td>2021-12-10 14:00:40</td>\n",
       "      <td>2805.900209</td>\n",
       "      <td>2006.692185</td>\n",
       "      <td>3543.498044</td>\n",
       "    </tr>\n",
       "    <tr>\n",
       "      <th>3</th>\n",
       "      <td>2021-12-10 14:00:45</td>\n",
       "      <td>2805.900209</td>\n",
       "      <td>2006.692185</td>\n",
       "      <td>3543.498044</td>\n",
       "    </tr>\n",
       "    <tr>\n",
       "      <th>4</th>\n",
       "      <td>2021-12-10 14:00:50</td>\n",
       "      <td>2805.900209</td>\n",
       "      <td>2006.692185</td>\n",
       "      <td>3543.498044</td>\n",
       "    </tr>\n",
       "    <tr>\n",
       "      <th>5</th>\n",
       "      <td>2021-12-10 14:00:55</td>\n",
       "      <td>2805.900209</td>\n",
       "      <td>2006.692185</td>\n",
       "      <td>3543.498044</td>\n",
       "    </tr>\n",
       "    <tr>\n",
       "      <th>6</th>\n",
       "      <td>2021-12-10 14:01:00</td>\n",
       "      <td>2805.900209</td>\n",
       "      <td>2006.692185</td>\n",
       "      <td>3543.498044</td>\n",
       "    </tr>\n",
       "    <tr>\n",
       "      <th>7</th>\n",
       "      <td>2021-12-10 14:01:05</td>\n",
       "      <td>2825.414385</td>\n",
       "      <td>1974.111814</td>\n",
       "      <td>3615.091469</td>\n",
       "    </tr>\n",
       "    <tr>\n",
       "      <th>8</th>\n",
       "      <td>2021-12-10 14:01:10</td>\n",
       "      <td>2825.414385</td>\n",
       "      <td>1974.111814</td>\n",
       "      <td>3615.091469</td>\n",
       "    </tr>\n",
       "    <tr>\n",
       "      <th>9</th>\n",
       "      <td>2021-12-10 14:01:15</td>\n",
       "      <td>2825.414385</td>\n",
       "      <td>1974.111814</td>\n",
       "      <td>3615.091469</td>\n",
       "    </tr>\n",
       "    <tr>\n",
       "      <th>10</th>\n",
       "      <td>2021-12-10 14:01:20</td>\n",
       "      <td>2825.414385</td>\n",
       "      <td>1974.111814</td>\n",
       "      <td>3615.091469</td>\n",
       "    </tr>\n",
       "    <tr>\n",
       "      <th>11</th>\n",
       "      <td>2021-12-10 14:01:25</td>\n",
       "      <td>2825.414385</td>\n",
       "      <td>1974.111814</td>\n",
       "      <td>3615.091469</td>\n",
       "    </tr>\n",
       "    <tr>\n",
       "      <th>12</th>\n",
       "      <td>2021-12-10 14:01:30</td>\n",
       "      <td>2825.414385</td>\n",
       "      <td>1974.111814</td>\n",
       "      <td>3615.091469</td>\n",
       "    </tr>\n",
       "    <tr>\n",
       "      <th>13</th>\n",
       "      <td>2021-12-10 14:01:35</td>\n",
       "      <td>2844.695356</td>\n",
       "      <td>2078.776026</td>\n",
       "      <td>3637.382563</td>\n",
       "    </tr>\n",
       "    <tr>\n",
       "      <th>14</th>\n",
       "      <td>2021-12-10 14:01:40</td>\n",
       "      <td>2844.695356</td>\n",
       "      <td>2078.776026</td>\n",
       "      <td>3637.382563</td>\n",
       "    </tr>\n",
       "    <tr>\n",
       "      <th>15</th>\n",
       "      <td>2021-12-10 14:01:45</td>\n",
       "      <td>2844.695356</td>\n",
       "      <td>2078.776026</td>\n",
       "      <td>3637.382563</td>\n",
       "    </tr>\n",
       "    <tr>\n",
       "      <th>16</th>\n",
       "      <td>2021-12-10 14:01:50</td>\n",
       "      <td>2844.695356</td>\n",
       "      <td>2078.776026</td>\n",
       "      <td>3637.382563</td>\n",
       "    </tr>\n",
       "    <tr>\n",
       "      <th>17</th>\n",
       "      <td>2021-12-10 14:01:55</td>\n",
       "      <td>2844.695356</td>\n",
       "      <td>2078.776026</td>\n",
       "      <td>3637.382563</td>\n",
       "    </tr>\n",
       "    <tr>\n",
       "      <th>18</th>\n",
       "      <td>2021-12-10 14:02:00</td>\n",
       "      <td>2844.695356</td>\n",
       "      <td>2078.776026</td>\n",
       "      <td>3637.382563</td>\n",
       "    </tr>\n",
       "  </tbody>\n",
       "</table>\n",
       "</div>"
      ],
      "text/plain": [
       "                    ds         yhat   yhat_lower   yhat_upper\n",
       "0  2021-12-10 14:00:30  2786.236983  1963.141442  3607.608634\n",
       "1  2021-12-10 14:00:35  2805.900209  2006.692185  3543.498044\n",
       "2  2021-12-10 14:00:40  2805.900209  2006.692185  3543.498044\n",
       "3  2021-12-10 14:00:45  2805.900209  2006.692185  3543.498044\n",
       "4  2021-12-10 14:00:50  2805.900209  2006.692185  3543.498044\n",
       "5  2021-12-10 14:00:55  2805.900209  2006.692185  3543.498044\n",
       "6  2021-12-10 14:01:00  2805.900209  2006.692185  3543.498044\n",
       "7  2021-12-10 14:01:05  2825.414385  1974.111814  3615.091469\n",
       "8  2021-12-10 14:01:10  2825.414385  1974.111814  3615.091469\n",
       "9  2021-12-10 14:01:15  2825.414385  1974.111814  3615.091469\n",
       "10 2021-12-10 14:01:20  2825.414385  1974.111814  3615.091469\n",
       "11 2021-12-10 14:01:25  2825.414385  1974.111814  3615.091469\n",
       "12 2021-12-10 14:01:30  2825.414385  1974.111814  3615.091469\n",
       "13 2021-12-10 14:01:35  2844.695356  2078.776026  3637.382563\n",
       "14 2021-12-10 14:01:40  2844.695356  2078.776026  3637.382563\n",
       "15 2021-12-10 14:01:45  2844.695356  2078.776026  3637.382563\n",
       "16 2021-12-10 14:01:50  2844.695356  2078.776026  3637.382563\n",
       "17 2021-12-10 14:01:55  2844.695356  2078.776026  3637.382563\n",
       "18 2021-12-10 14:02:00  2844.695356  2078.776026  3637.382563"
      ]
     },
     "execution_count": 30,
     "metadata": {},
     "output_type": "execute_result"
    }
   ],
   "source": [
    "df_out_head = df_out_head.set_index('ds').resample('5s').bfill().reset_index()\n",
    "df_out_head"
   ]
  },
  {
   "cell_type": "code",
   "execution_count": 31,
   "metadata": {},
   "outputs": [],
   "source": [
    "# df_out_head.to_csv('test_data/df_out_head.csv', index=False)"
   ]
  },
  {
   "cell_type": "code",
   "execution_count": null,
   "metadata": {},
   "outputs": [],
   "source": []
  }
 ],
 "metadata": {
  "kernelspec": {
   "display_name": "Python 3",
   "language": "python",
   "name": "python3"
  },
  "language_info": {
   "codemirror_mode": {
    "name": "ipython",
    "version": 3
   },
   "file_extension": ".py",
   "mimetype": "text/x-python",
   "name": "python",
   "nbconvert_exporter": "python",
   "pygments_lexer": "ipython3",
   "version": "3.7.6"
  }
 },
 "nbformat": 4,
 "nbformat_minor": 4
}
