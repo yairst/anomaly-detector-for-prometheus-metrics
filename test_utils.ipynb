{
 "cells": [
  {
   "cell_type": "code",
   "execution_count": 109,
   "metadata": {},
   "outputs": [],
   "source": [
    "from prometheus_api_client import PrometheusConnect, MetricsList\n",
    "from prometheus_api_client.metric_range_df import MetricRangeDataFrame\n",
    "from prometheus_api_client.utils import parse_datetime\n",
    "import pandas as pd"
   ]
  },
  {
   "cell_type": "markdown",
   "metadata": {},
   "source": [
    "The purpose of this notebook is to explore prometheus_api_client behaviour when extracting metric data, and accordingly decide what will be the \"right\" behaviour of query_to_df() in utils and the affected architecture of the project, specifically decide if it allowed to get as input a metric or query that result in multiple time series, such as summary metric. in such cases custom_query_range will result in sequences of jsons where each json is reffered to unique combination of labels (for example, unique combination of job, instance and quantile."
   ]
  },
  {
   "cell_type": "code",
   "execution_count": 85,
   "metadata": {},
   "outputs": [],
   "source": [
    "prom = PrometheusConnect(url=\"http://localhost:9090\", disable_ssl=True)"
   ]
  },
  {
   "cell_type": "markdown",
   "metadata": {},
   "source": [
    "define function to extract query range and format it as dataframe:"
   ]
  },
  {
   "cell_type": "code",
   "execution_count": 86,
   "metadata": {},
   "outputs": [],
   "source": [
    "def query2df(query, columns=None):\n",
    "    query_range = prom.custom_query_range(query ,\n",
    "                            start_time=start_time,\n",
    "                            end_time=end_time,\n",
    "                            step=step)\n",
    "    return MetricRangeDataFrame(query_range,columns=columns)"
   ]
  },
  {
   "cell_type": "markdown",
   "metadata": {},
   "source": [
    "lets choose a summary metric:"
   ]
  },
  {
   "cell_type": "code",
   "execution_count": 87,
   "metadata": {},
   "outputs": [
    {
     "data": {
      "text/html": [
       "<div>\n",
       "<style scoped>\n",
       "    .dataframe tbody tr th:only-of-type {\n",
       "        vertical-align: middle;\n",
       "    }\n",
       "\n",
       "    .dataframe tbody tr th {\n",
       "        vertical-align: top;\n",
       "    }\n",
       "\n",
       "    .dataframe thead th {\n",
       "        text-align: right;\n",
       "    }\n",
       "</style>\n",
       "<table border=\"1\" class=\"dataframe\">\n",
       "  <thead>\n",
       "    <tr style=\"text-align: right;\">\n",
       "      <th></th>\n",
       "      <th>__name__</th>\n",
       "      <th>instance</th>\n",
       "      <th>interval</th>\n",
       "      <th>job</th>\n",
       "      <th>quantile</th>\n",
       "      <th>value</th>\n",
       "    </tr>\n",
       "    <tr>\n",
       "      <th>timestamp</th>\n",
       "      <th></th>\n",
       "      <th></th>\n",
       "      <th></th>\n",
       "      <th></th>\n",
       "      <th></th>\n",
       "      <th></th>\n",
       "    </tr>\n",
       "  </thead>\n",
       "  <tbody>\n",
       "    <tr>\n",
       "      <th>1638643944</th>\n",
       "      <td>prometheus_target_interval_length_seconds</td>\n",
       "      <td>localhost:9090</td>\n",
       "      <td>5s</td>\n",
       "      <td>prometheus</td>\n",
       "      <td>0.01</td>\n",
       "      <td>4.9846831</td>\n",
       "    </tr>\n",
       "    <tr>\n",
       "      <th>1638643949</th>\n",
       "      <td>prometheus_target_interval_length_seconds</td>\n",
       "      <td>localhost:9090</td>\n",
       "      <td>5s</td>\n",
       "      <td>prometheus</td>\n",
       "      <td>0.01</td>\n",
       "      <td>4.9846831</td>\n",
       "    </tr>\n",
       "    <tr>\n",
       "      <th>1638643954</th>\n",
       "      <td>prometheus_target_interval_length_seconds</td>\n",
       "      <td>localhost:9090</td>\n",
       "      <td>5s</td>\n",
       "      <td>prometheus</td>\n",
       "      <td>0.01</td>\n",
       "      <td>4.9846831</td>\n",
       "    </tr>\n",
       "    <tr>\n",
       "      <th>1638643959</th>\n",
       "      <td>prometheus_target_interval_length_seconds</td>\n",
       "      <td>localhost:9090</td>\n",
       "      <td>5s</td>\n",
       "      <td>prometheus</td>\n",
       "      <td>0.01</td>\n",
       "      <td>4.9846831</td>\n",
       "    </tr>\n",
       "    <tr>\n",
       "      <th>1638643964</th>\n",
       "      <td>prometheus_target_interval_length_seconds</td>\n",
       "      <td>localhost:9090</td>\n",
       "      <td>5s</td>\n",
       "      <td>prometheus</td>\n",
       "      <td>0.01</td>\n",
       "      <td>4.9846831</td>\n",
       "    </tr>\n",
       "  </tbody>\n",
       "</table>\n",
       "</div>"
      ],
      "text/plain": [
       "                                             __name__        instance  \\\n",
       "timestamp                                                               \n",
       "1638643944  prometheus_target_interval_length_seconds  localhost:9090   \n",
       "1638643949  prometheus_target_interval_length_seconds  localhost:9090   \n",
       "1638643954  prometheus_target_interval_length_seconds  localhost:9090   \n",
       "1638643959  prometheus_target_interval_length_seconds  localhost:9090   \n",
       "1638643964  prometheus_target_interval_length_seconds  localhost:9090   \n",
       "\n",
       "           interval         job quantile      value  \n",
       "timestamp                                            \n",
       "1638643944       5s  prometheus     0.01  4.9846831  \n",
       "1638643949       5s  prometheus     0.01  4.9846831  \n",
       "1638643954       5s  prometheus     0.01  4.9846831  \n",
       "1638643959       5s  prometheus     0.01  4.9846831  \n",
       "1638643964       5s  prometheus     0.01  4.9846831  "
      ]
     },
     "execution_count": 87,
     "metadata": {},
     "output_type": "execute_result"
    }
   ],
   "source": [
    "start_time = parse_datetime(\"5min\")\n",
    "end_time = parse_datetime(\"now\")\n",
    "step = \"5s\"\n",
    "\n",
    "query = \"prometheus_target_interval_length_seconds\"\n",
    "\n",
    "df = query2df(query)\n",
    "df.head()"
   ]
  },
  {
   "cell_type": "code",
   "execution_count": 88,
   "metadata": {},
   "outputs": [
    {
     "data": {
      "text/html": [
       "<div>\n",
       "<style scoped>\n",
       "    .dataframe tbody tr th:only-of-type {\n",
       "        vertical-align: middle;\n",
       "    }\n",
       "\n",
       "    .dataframe tbody tr th {\n",
       "        vertical-align: top;\n",
       "    }\n",
       "\n",
       "    .dataframe thead th {\n",
       "        text-align: right;\n",
       "    }\n",
       "</style>\n",
       "<table border=\"1\" class=\"dataframe\">\n",
       "  <thead>\n",
       "    <tr style=\"text-align: right;\">\n",
       "      <th></th>\n",
       "      <th>__name__</th>\n",
       "      <th>instance</th>\n",
       "      <th>interval</th>\n",
       "      <th>job</th>\n",
       "      <th>quantile</th>\n",
       "      <th>value</th>\n",
       "    </tr>\n",
       "  </thead>\n",
       "  <tbody>\n",
       "    <tr>\n",
       "      <th>count</th>\n",
       "      <td>305</td>\n",
       "      <td>305</td>\n",
       "      <td>305</td>\n",
       "      <td>305</td>\n",
       "      <td>305</td>\n",
       "      <td>305</td>\n",
       "    </tr>\n",
       "    <tr>\n",
       "      <th>unique</th>\n",
       "      <td>1</td>\n",
       "      <td>1</td>\n",
       "      <td>1</td>\n",
       "      <td>1</td>\n",
       "      <td>5</td>\n",
       "      <td>25</td>\n",
       "    </tr>\n",
       "    <tr>\n",
       "      <th>top</th>\n",
       "      <td>prometheus_target_interval_length_seconds</td>\n",
       "      <td>localhost:9090</td>\n",
       "      <td>5s</td>\n",
       "      <td>prometheus</td>\n",
       "      <td>0.99</td>\n",
       "      <td>5.015134</td>\n",
       "    </tr>\n",
       "    <tr>\n",
       "      <th>freq</th>\n",
       "      <td>305</td>\n",
       "      <td>305</td>\n",
       "      <td>305</td>\n",
       "      <td>305</td>\n",
       "      <td>61</td>\n",
       "      <td>38</td>\n",
       "    </tr>\n",
       "  </tbody>\n",
       "</table>\n",
       "</div>"
      ],
      "text/plain": [
       "                                         __name__        instance interval  \\\n",
       "count                                         305             305      305   \n",
       "unique                                          1               1        1   \n",
       "top     prometheus_target_interval_length_seconds  localhost:9090       5s   \n",
       "freq                                          305             305      305   \n",
       "\n",
       "               job quantile     value  \n",
       "count          305      305       305  \n",
       "unique           1        5        25  \n",
       "top     prometheus     0.99  5.015134  \n",
       "freq           305       61        38  "
      ]
     },
     "execution_count": 88,
     "metadata": {},
     "output_type": "execute_result"
    }
   ],
   "source": [
    "df.describe()"
   ]
  },
  {
   "cell_type": "markdown",
   "metadata": {},
   "source": [
    "we can see that the query results in additional columns due to the different quantiles. lets find all the unique combination of labels columns:"
   ]
  },
  {
   "cell_type": "code",
   "execution_count": 89,
   "metadata": {},
   "outputs": [
    {
     "data": {
      "text/plain": [
       "['instance', 'interval', 'job', 'quantile']"
      ]
     },
     "execution_count": 89,
     "metadata": {},
     "output_type": "execute_result"
    }
   ],
   "source": [
    "list(df.columns[1:-1])"
   ]
  },
  {
   "cell_type": "code",
   "execution_count": 90,
   "metadata": {},
   "outputs": [
    {
     "data": {
      "text/plain": [
       "dict_keys([('localhost:9090', '5s', 'prometheus', '0.01'), ('localhost:9090', '5s', 'prometheus', '0.05'), ('localhost:9090', '5s', 'prometheus', '0.5'), ('localhost:9090', '5s', 'prometheus', '0.9'), ('localhost:9090', '5s', 'prometheus', '0.99')])"
      ]
     },
     "execution_count": 90,
     "metadata": {},
     "output_type": "execute_result"
    }
   ],
   "source": [
    "groups = df.groupby(list(df.columns[1:-1]))\n",
    "groups.groups.keys()"
   ]
  },
  {
   "cell_type": "markdown",
   "metadata": {},
   "source": [
    "As expected there are 5 distinct metrics, against the 5 quantiles in summary metrics. In general it possible that there will be more metrics due to different instances or other labels."
   ]
  },
  {
   "cell_type": "markdown",
   "metadata": {},
   "source": [
    "Ofcourse we can define unique query that gives only one metric:"
   ]
  },
  {
   "cell_type": "code",
   "execution_count": 91,
   "metadata": {},
   "outputs": [
    {
     "data": {
      "text/html": [
       "<div>\n",
       "<style scoped>\n",
       "    .dataframe tbody tr th:only-of-type {\n",
       "        vertical-align: middle;\n",
       "    }\n",
       "\n",
       "    .dataframe tbody tr th {\n",
       "        vertical-align: top;\n",
       "    }\n",
       "\n",
       "    .dataframe thead th {\n",
       "        text-align: right;\n",
       "    }\n",
       "</style>\n",
       "<table border=\"1\" class=\"dataframe\">\n",
       "  <thead>\n",
       "    <tr style=\"text-align: right;\">\n",
       "      <th></th>\n",
       "      <th>__name__</th>\n",
       "      <th>instance</th>\n",
       "      <th>interval</th>\n",
       "      <th>job</th>\n",
       "      <th>quantile</th>\n",
       "      <th>value</th>\n",
       "    </tr>\n",
       "    <tr>\n",
       "      <th>timestamp</th>\n",
       "      <th></th>\n",
       "      <th></th>\n",
       "      <th></th>\n",
       "      <th></th>\n",
       "      <th></th>\n",
       "      <th></th>\n",
       "    </tr>\n",
       "  </thead>\n",
       "  <tbody>\n",
       "    <tr>\n",
       "      <th>1638643944</th>\n",
       "      <td>prometheus_target_interval_length_seconds</td>\n",
       "      <td>localhost:9090</td>\n",
       "      <td>5s</td>\n",
       "      <td>prometheus</td>\n",
       "      <td>0.01</td>\n",
       "      <td>4.9846831</td>\n",
       "    </tr>\n",
       "    <tr>\n",
       "      <th>1638643949</th>\n",
       "      <td>prometheus_target_interval_length_seconds</td>\n",
       "      <td>localhost:9090</td>\n",
       "      <td>5s</td>\n",
       "      <td>prometheus</td>\n",
       "      <td>0.01</td>\n",
       "      <td>4.9846831</td>\n",
       "    </tr>\n",
       "    <tr>\n",
       "      <th>1638643954</th>\n",
       "      <td>prometheus_target_interval_length_seconds</td>\n",
       "      <td>localhost:9090</td>\n",
       "      <td>5s</td>\n",
       "      <td>prometheus</td>\n",
       "      <td>0.01</td>\n",
       "      <td>4.9846831</td>\n",
       "    </tr>\n",
       "    <tr>\n",
       "      <th>1638643959</th>\n",
       "      <td>prometheus_target_interval_length_seconds</td>\n",
       "      <td>localhost:9090</td>\n",
       "      <td>5s</td>\n",
       "      <td>prometheus</td>\n",
       "      <td>0.01</td>\n",
       "      <td>4.9846831</td>\n",
       "    </tr>\n",
       "    <tr>\n",
       "      <th>1638643964</th>\n",
       "      <td>prometheus_target_interval_length_seconds</td>\n",
       "      <td>localhost:9090</td>\n",
       "      <td>5s</td>\n",
       "      <td>prometheus</td>\n",
       "      <td>0.01</td>\n",
       "      <td>4.9846831</td>\n",
       "    </tr>\n",
       "  </tbody>\n",
       "</table>\n",
       "</div>"
      ],
      "text/plain": [
       "                                             __name__        instance  \\\n",
       "timestamp                                                               \n",
       "1638643944  prometheus_target_interval_length_seconds  localhost:9090   \n",
       "1638643949  prometheus_target_interval_length_seconds  localhost:9090   \n",
       "1638643954  prometheus_target_interval_length_seconds  localhost:9090   \n",
       "1638643959  prometheus_target_interval_length_seconds  localhost:9090   \n",
       "1638643964  prometheus_target_interval_length_seconds  localhost:9090   \n",
       "\n",
       "           interval         job quantile      value  \n",
       "timestamp                                            \n",
       "1638643944       5s  prometheus     0.01  4.9846831  \n",
       "1638643949       5s  prometheus     0.01  4.9846831  \n",
       "1638643954       5s  prometheus     0.01  4.9846831  \n",
       "1638643959       5s  prometheus     0.01  4.9846831  \n",
       "1638643964       5s  prometheus     0.01  4.9846831  "
      ]
     },
     "execution_count": 91,
     "metadata": {},
     "output_type": "execute_result"
    }
   ],
   "source": [
    "query = 'prometheus_target_interval_length_seconds{instance=\"localhost:9090\", job=\"prometheus\", quantile=\"0.01\"}'\n",
    "\n",
    "df = query2df(query)\n",
    "df.head()\n"
   ]
  },
  {
   "cell_type": "code",
   "execution_count": 92,
   "metadata": {},
   "outputs": [
    {
     "data": {
      "text/html": [
       "<div>\n",
       "<style scoped>\n",
       "    .dataframe tbody tr th:only-of-type {\n",
       "        vertical-align: middle;\n",
       "    }\n",
       "\n",
       "    .dataframe tbody tr th {\n",
       "        vertical-align: top;\n",
       "    }\n",
       "\n",
       "    .dataframe thead th {\n",
       "        text-align: right;\n",
       "    }\n",
       "</style>\n",
       "<table border=\"1\" class=\"dataframe\">\n",
       "  <thead>\n",
       "    <tr style=\"text-align: right;\">\n",
       "      <th></th>\n",
       "      <th>__name__</th>\n",
       "      <th>instance</th>\n",
       "      <th>interval</th>\n",
       "      <th>job</th>\n",
       "      <th>quantile</th>\n",
       "      <th>value</th>\n",
       "    </tr>\n",
       "  </thead>\n",
       "  <tbody>\n",
       "    <tr>\n",
       "      <th>count</th>\n",
       "      <td>61</td>\n",
       "      <td>61</td>\n",
       "      <td>61</td>\n",
       "      <td>61</td>\n",
       "      <td>61</td>\n",
       "      <td>61</td>\n",
       "    </tr>\n",
       "    <tr>\n",
       "      <th>unique</th>\n",
       "      <td>1</td>\n",
       "      <td>1</td>\n",
       "      <td>1</td>\n",
       "      <td>1</td>\n",
       "      <td>1</td>\n",
       "      <td>4</td>\n",
       "    </tr>\n",
       "    <tr>\n",
       "      <th>top</th>\n",
       "      <td>prometheus_target_interval_length_seconds</td>\n",
       "      <td>localhost:9090</td>\n",
       "      <td>5s</td>\n",
       "      <td>prometheus</td>\n",
       "      <td>0.01</td>\n",
       "      <td>4.9823129999999995</td>\n",
       "    </tr>\n",
       "    <tr>\n",
       "      <th>freq</th>\n",
       "      <td>61</td>\n",
       "      <td>61</td>\n",
       "      <td>61</td>\n",
       "      <td>61</td>\n",
       "      <td>61</td>\n",
       "      <td>27</td>\n",
       "    </tr>\n",
       "  </tbody>\n",
       "</table>\n",
       "</div>"
      ],
      "text/plain": [
       "                                         __name__        instance interval  \\\n",
       "count                                          61              61       61   \n",
       "unique                                          1               1        1   \n",
       "top     prometheus_target_interval_length_seconds  localhost:9090       5s   \n",
       "freq                                           61              61       61   \n",
       "\n",
       "               job quantile               value  \n",
       "count           61       61                  61  \n",
       "unique           1        1                   4  \n",
       "top     prometheus     0.01  4.9823129999999995  \n",
       "freq            61       61                  27  "
      ]
     },
     "execution_count": 92,
     "metadata": {},
     "output_type": "execute_result"
    }
   ],
   "source": [
    "df.describe()"
   ]
  },
  {
   "cell_type": "code",
   "execution_count": 93,
   "metadata": {},
   "outputs": [
    {
     "data": {
      "text/plain": [
       "dict_keys([('localhost:9090', 'prometheus', '0.01')])"
      ]
     },
     "execution_count": 93,
     "metadata": {},
     "output_type": "execute_result"
    }
   ],
   "source": [
    "groups = df.groupby(['instance', 'job', 'quantile'])\n",
    "groups.groups.keys()"
   ]
  },
  {
   "cell_type": "markdown",
   "metadata": {},
   "source": [
    "Note, that if we pass specific columns to custom_query_range() we still get all the 305 values but without the the quantile label. No aggregation is done:"
   ]
  },
  {
   "cell_type": "code",
   "execution_count": 94,
   "metadata": {},
   "outputs": [
    {
     "data": {
      "text/html": [
       "<div>\n",
       "<style scoped>\n",
       "    .dataframe tbody tr th:only-of-type {\n",
       "        vertical-align: middle;\n",
       "    }\n",
       "\n",
       "    .dataframe tbody tr th {\n",
       "        vertical-align: top;\n",
       "    }\n",
       "\n",
       "    .dataframe thead th {\n",
       "        text-align: right;\n",
       "    }\n",
       "</style>\n",
       "<table border=\"1\" class=\"dataframe\">\n",
       "  <thead>\n",
       "    <tr style=\"text-align: right;\">\n",
       "      <th></th>\n",
       "      <th>instance</th>\n",
       "      <th>value</th>\n",
       "    </tr>\n",
       "    <tr>\n",
       "      <th>timestamp</th>\n",
       "      <th></th>\n",
       "      <th></th>\n",
       "    </tr>\n",
       "  </thead>\n",
       "  <tbody>\n",
       "    <tr>\n",
       "      <th>1638643944</th>\n",
       "      <td>localhost:9090</td>\n",
       "      <td>4.9846831</td>\n",
       "    </tr>\n",
       "    <tr>\n",
       "      <th>1638643949</th>\n",
       "      <td>localhost:9090</td>\n",
       "      <td>4.9846831</td>\n",
       "    </tr>\n",
       "    <tr>\n",
       "      <th>1638643954</th>\n",
       "      <td>localhost:9090</td>\n",
       "      <td>4.9846831</td>\n",
       "    </tr>\n",
       "    <tr>\n",
       "      <th>1638643959</th>\n",
       "      <td>localhost:9090</td>\n",
       "      <td>4.9846831</td>\n",
       "    </tr>\n",
       "    <tr>\n",
       "      <th>1638643964</th>\n",
       "      <td>localhost:9090</td>\n",
       "      <td>4.9846831</td>\n",
       "    </tr>\n",
       "  </tbody>\n",
       "</table>\n",
       "</div>"
      ],
      "text/plain": [
       "                  instance      value\n",
       "timestamp                            \n",
       "1638643944  localhost:9090  4.9846831\n",
       "1638643949  localhost:9090  4.9846831\n",
       "1638643954  localhost:9090  4.9846831\n",
       "1638643959  localhost:9090  4.9846831\n",
       "1638643964  localhost:9090  4.9846831"
      ]
     },
     "execution_count": 94,
     "metadata": {},
     "output_type": "execute_result"
    }
   ],
   "source": [
    "df = query2df(\"prometheus_target_interval_length_seconds\", columns=['timestamp','instance','value'])\n",
    "df.head()"
   ]
  },
  {
   "cell_type": "code",
   "execution_count": 95,
   "metadata": {},
   "outputs": [
    {
     "data": {
      "text/html": [
       "<div>\n",
       "<style scoped>\n",
       "    .dataframe tbody tr th:only-of-type {\n",
       "        vertical-align: middle;\n",
       "    }\n",
       "\n",
       "    .dataframe tbody tr th {\n",
       "        vertical-align: top;\n",
       "    }\n",
       "\n",
       "    .dataframe thead th {\n",
       "        text-align: right;\n",
       "    }\n",
       "</style>\n",
       "<table border=\"1\" class=\"dataframe\">\n",
       "  <thead>\n",
       "    <tr style=\"text-align: right;\">\n",
       "      <th></th>\n",
       "      <th>instance</th>\n",
       "      <th>value</th>\n",
       "    </tr>\n",
       "  </thead>\n",
       "  <tbody>\n",
       "    <tr>\n",
       "      <th>count</th>\n",
       "      <td>305</td>\n",
       "      <td>305</td>\n",
       "    </tr>\n",
       "    <tr>\n",
       "      <th>unique</th>\n",
       "      <td>1</td>\n",
       "      <td>25</td>\n",
       "    </tr>\n",
       "    <tr>\n",
       "      <th>top</th>\n",
       "      <td>localhost:9090</td>\n",
       "      <td>5.015134</td>\n",
       "    </tr>\n",
       "    <tr>\n",
       "      <th>freq</th>\n",
       "      <td>305</td>\n",
       "      <td>38</td>\n",
       "    </tr>\n",
       "  </tbody>\n",
       "</table>\n",
       "</div>"
      ],
      "text/plain": [
       "              instance     value\n",
       "count              305       305\n",
       "unique               1        25\n",
       "top     localhost:9090  5.015134\n",
       "freq               305        38"
      ]
     },
     "execution_count": 95,
     "metadata": {},
     "output_type": "execute_result"
    }
   ],
   "source": [
    "df.describe()"
   ]
  },
  {
   "cell_type": "markdown",
   "metadata": {},
   "source": [
    "lets load again the summary metric to explore the manipulation need to be done to get the desired output to be fitted with prophet:"
   ]
  },
  {
   "cell_type": "code",
   "execution_count": 96,
   "metadata": {},
   "outputs": [],
   "source": [
    "query = \"prometheus_target_interval_length_seconds\"\n",
    "df = query2df(query)"
   ]
  },
  {
   "cell_type": "code",
   "execution_count": 97,
   "metadata": {},
   "outputs": [
    {
     "data": {
      "text/html": [
       "<div>\n",
       "<style scoped>\n",
       "    .dataframe tbody tr th:only-of-type {\n",
       "        vertical-align: middle;\n",
       "    }\n",
       "\n",
       "    .dataframe tbody tr th {\n",
       "        vertical-align: top;\n",
       "    }\n",
       "\n",
       "    .dataframe thead th {\n",
       "        text-align: right;\n",
       "    }\n",
       "</style>\n",
       "<table border=\"1\" class=\"dataframe\">\n",
       "  <thead>\n",
       "    <tr style=\"text-align: right;\">\n",
       "      <th></th>\n",
       "      <th>ds</th>\n",
       "      <th>__name__</th>\n",
       "      <th>instance</th>\n",
       "      <th>interval</th>\n",
       "      <th>job</th>\n",
       "      <th>quantile</th>\n",
       "      <th>y</th>\n",
       "    </tr>\n",
       "  </thead>\n",
       "  <tbody>\n",
       "    <tr>\n",
       "      <th>0</th>\n",
       "      <td>1638643944</td>\n",
       "      <td>prometheus_target_interval_length_seconds</td>\n",
       "      <td>localhost:9090</td>\n",
       "      <td>5s</td>\n",
       "      <td>prometheus</td>\n",
       "      <td>0.01</td>\n",
       "      <td>4.984683</td>\n",
       "    </tr>\n",
       "    <tr>\n",
       "      <th>1</th>\n",
       "      <td>1638643949</td>\n",
       "      <td>prometheus_target_interval_length_seconds</td>\n",
       "      <td>localhost:9090</td>\n",
       "      <td>5s</td>\n",
       "      <td>prometheus</td>\n",
       "      <td>0.01</td>\n",
       "      <td>4.984683</td>\n",
       "    </tr>\n",
       "    <tr>\n",
       "      <th>2</th>\n",
       "      <td>1638643954</td>\n",
       "      <td>prometheus_target_interval_length_seconds</td>\n",
       "      <td>localhost:9090</td>\n",
       "      <td>5s</td>\n",
       "      <td>prometheus</td>\n",
       "      <td>0.01</td>\n",
       "      <td>4.984683</td>\n",
       "    </tr>\n",
       "    <tr>\n",
       "      <th>3</th>\n",
       "      <td>1638643959</td>\n",
       "      <td>prometheus_target_interval_length_seconds</td>\n",
       "      <td>localhost:9090</td>\n",
       "      <td>5s</td>\n",
       "      <td>prometheus</td>\n",
       "      <td>0.01</td>\n",
       "      <td>4.984683</td>\n",
       "    </tr>\n",
       "    <tr>\n",
       "      <th>4</th>\n",
       "      <td>1638643964</td>\n",
       "      <td>prometheus_target_interval_length_seconds</td>\n",
       "      <td>localhost:9090</td>\n",
       "      <td>5s</td>\n",
       "      <td>prometheus</td>\n",
       "      <td>0.01</td>\n",
       "      <td>4.984683</td>\n",
       "    </tr>\n",
       "  </tbody>\n",
       "</table>\n",
       "</div>"
      ],
      "text/plain": [
       "           ds                                   __name__        instance  \\\n",
       "0  1638643944  prometheus_target_interval_length_seconds  localhost:9090   \n",
       "1  1638643949  prometheus_target_interval_length_seconds  localhost:9090   \n",
       "2  1638643954  prometheus_target_interval_length_seconds  localhost:9090   \n",
       "3  1638643959  prometheus_target_interval_length_seconds  localhost:9090   \n",
       "4  1638643964  prometheus_target_interval_length_seconds  localhost:9090   \n",
       "\n",
       "  interval         job quantile         y  \n",
       "0       5s  prometheus     0.01  4.984683  \n",
       "1       5s  prometheus     0.01  4.984683  \n",
       "2       5s  prometheus     0.01  4.984683  \n",
       "3       5s  prometheus     0.01  4.984683  \n",
       "4       5s  prometheus     0.01  4.984683  "
      ]
     },
     "execution_count": 97,
     "metadata": {},
     "output_type": "execute_result"
    }
   ],
   "source": [
    "df = df.reset_index().rename(columns={'value':'y', 'timestamp':'ds'}).astype({'y':'float'})\n",
    "df.head()"
   ]
  },
  {
   "cell_type": "code",
   "execution_count": 98,
   "metadata": {},
   "outputs": [
    {
     "data": {
      "text/plain": [
       "ds            int64\n",
       "__name__     object\n",
       "instance     object\n",
       "interval     object\n",
       "job          object\n",
       "quantile     object\n",
       "y           float64\n",
       "dtype: object"
      ]
     },
     "execution_count": 98,
     "metadata": {},
     "output_type": "execute_result"
    }
   ],
   "source": [
    "df.dtypes"
   ]
  },
  {
   "cell_type": "code",
   "execution_count": 99,
   "metadata": {},
   "outputs": [
    {
     "data": {
      "text/html": [
       "<div>\n",
       "<style scoped>\n",
       "    .dataframe tbody tr th:only-of-type {\n",
       "        vertical-align: middle;\n",
       "    }\n",
       "\n",
       "    .dataframe tbody tr th {\n",
       "        vertical-align: top;\n",
       "    }\n",
       "\n",
       "    .dataframe thead th {\n",
       "        text-align: right;\n",
       "    }\n",
       "</style>\n",
       "<table border=\"1\" class=\"dataframe\">\n",
       "  <thead>\n",
       "    <tr style=\"text-align: right;\">\n",
       "      <th></th>\n",
       "      <th>ds</th>\n",
       "      <th>__name__</th>\n",
       "      <th>instance</th>\n",
       "      <th>interval</th>\n",
       "      <th>job</th>\n",
       "      <th>quantile</th>\n",
       "      <th>y</th>\n",
       "    </tr>\n",
       "  </thead>\n",
       "  <tbody>\n",
       "    <tr>\n",
       "      <th>0</th>\n",
       "      <td>2021-12-04 20:52:24</td>\n",
       "      <td>prometheus_target_interval_length_seconds</td>\n",
       "      <td>localhost:9090</td>\n",
       "      <td>5s</td>\n",
       "      <td>prometheus</td>\n",
       "      <td>0.01</td>\n",
       "      <td>4.984683</td>\n",
       "    </tr>\n",
       "    <tr>\n",
       "      <th>1</th>\n",
       "      <td>2021-12-04 20:52:29</td>\n",
       "      <td>prometheus_target_interval_length_seconds</td>\n",
       "      <td>localhost:9090</td>\n",
       "      <td>5s</td>\n",
       "      <td>prometheus</td>\n",
       "      <td>0.01</td>\n",
       "      <td>4.984683</td>\n",
       "    </tr>\n",
       "    <tr>\n",
       "      <th>2</th>\n",
       "      <td>2021-12-04 20:52:34</td>\n",
       "      <td>prometheus_target_interval_length_seconds</td>\n",
       "      <td>localhost:9090</td>\n",
       "      <td>5s</td>\n",
       "      <td>prometheus</td>\n",
       "      <td>0.01</td>\n",
       "      <td>4.984683</td>\n",
       "    </tr>\n",
       "    <tr>\n",
       "      <th>3</th>\n",
       "      <td>2021-12-04 20:52:39</td>\n",
       "      <td>prometheus_target_interval_length_seconds</td>\n",
       "      <td>localhost:9090</td>\n",
       "      <td>5s</td>\n",
       "      <td>prometheus</td>\n",
       "      <td>0.01</td>\n",
       "      <td>4.984683</td>\n",
       "    </tr>\n",
       "    <tr>\n",
       "      <th>4</th>\n",
       "      <td>2021-12-04 20:52:44</td>\n",
       "      <td>prometheus_target_interval_length_seconds</td>\n",
       "      <td>localhost:9090</td>\n",
       "      <td>5s</td>\n",
       "      <td>prometheus</td>\n",
       "      <td>0.01</td>\n",
       "      <td>4.984683</td>\n",
       "    </tr>\n",
       "  </tbody>\n",
       "</table>\n",
       "</div>"
      ],
      "text/plain": [
       "                   ds                                   __name__  \\\n",
       "0 2021-12-04 20:52:24  prometheus_target_interval_length_seconds   \n",
       "1 2021-12-04 20:52:29  prometheus_target_interval_length_seconds   \n",
       "2 2021-12-04 20:52:34  prometheus_target_interval_length_seconds   \n",
       "3 2021-12-04 20:52:39  prometheus_target_interval_length_seconds   \n",
       "4 2021-12-04 20:52:44  prometheus_target_interval_length_seconds   \n",
       "\n",
       "         instance interval         job quantile         y  \n",
       "0  localhost:9090       5s  prometheus     0.01  4.984683  \n",
       "1  localhost:9090       5s  prometheus     0.01  4.984683  \n",
       "2  localhost:9090       5s  prometheus     0.01  4.984683  \n",
       "3  localhost:9090       5s  prometheus     0.01  4.984683  \n",
       "4  localhost:9090       5s  prometheus     0.01  4.984683  "
      ]
     },
     "execution_count": 99,
     "metadata": {},
     "output_type": "execute_result"
    }
   ],
   "source": [
    "df['ds'] = pd.to_datetime(df['ds'],unit='s').astype('datetime64[ns, Asia/Jerusalem]').dt.tz_localize(None)\n",
    "df.head()"
   ]
  },
  {
   "cell_type": "markdown",
   "metadata": {},
   "source": [
    "so these are the identical manipulation as we do in query_to_df(). let see how we get each group:"
   ]
  },
  {
   "cell_type": "code",
   "execution_count": 101,
   "metadata": {},
   "outputs": [],
   "source": [
    "dfgb = df.groupby(list(df.columns[1:-1]))"
   ]
  },
  {
   "cell_type": "markdown",
   "metadata": {},
   "source": [
    "for example the first group (quantile 0.01):"
   ]
  },
  {
   "cell_type": "code",
   "execution_count": 108,
   "metadata": {},
   "outputs": [
    {
     "data": {
      "text/html": [
       "<div>\n",
       "<style scoped>\n",
       "    .dataframe tbody tr th:only-of-type {\n",
       "        vertical-align: middle;\n",
       "    }\n",
       "\n",
       "    .dataframe tbody tr th {\n",
       "        vertical-align: top;\n",
       "    }\n",
       "\n",
       "    .dataframe thead th {\n",
       "        text-align: right;\n",
       "    }\n",
       "</style>\n",
       "<table border=\"1\" class=\"dataframe\">\n",
       "  <thead>\n",
       "    <tr style=\"text-align: right;\">\n",
       "      <th></th>\n",
       "      <th>ds</th>\n",
       "      <th>__name__</th>\n",
       "      <th>instance</th>\n",
       "      <th>interval</th>\n",
       "      <th>job</th>\n",
       "      <th>quantile</th>\n",
       "      <th>y</th>\n",
       "    </tr>\n",
       "  </thead>\n",
       "  <tbody>\n",
       "    <tr>\n",
       "      <th>0</th>\n",
       "      <td>2021-12-04 20:52:24</td>\n",
       "      <td>prometheus_target_interval_length_seconds</td>\n",
       "      <td>localhost:9090</td>\n",
       "      <td>5s</td>\n",
       "      <td>prometheus</td>\n",
       "      <td>0.01</td>\n",
       "      <td>4.984683</td>\n",
       "    </tr>\n",
       "    <tr>\n",
       "      <th>1</th>\n",
       "      <td>2021-12-04 20:52:29</td>\n",
       "      <td>prometheus_target_interval_length_seconds</td>\n",
       "      <td>localhost:9090</td>\n",
       "      <td>5s</td>\n",
       "      <td>prometheus</td>\n",
       "      <td>0.01</td>\n",
       "      <td>4.984683</td>\n",
       "    </tr>\n",
       "    <tr>\n",
       "      <th>2</th>\n",
       "      <td>2021-12-04 20:52:34</td>\n",
       "      <td>prometheus_target_interval_length_seconds</td>\n",
       "      <td>localhost:9090</td>\n",
       "      <td>5s</td>\n",
       "      <td>prometheus</td>\n",
       "      <td>0.01</td>\n",
       "      <td>4.984683</td>\n",
       "    </tr>\n",
       "    <tr>\n",
       "      <th>3</th>\n",
       "      <td>2021-12-04 20:52:39</td>\n",
       "      <td>prometheus_target_interval_length_seconds</td>\n",
       "      <td>localhost:9090</td>\n",
       "      <td>5s</td>\n",
       "      <td>prometheus</td>\n",
       "      <td>0.01</td>\n",
       "      <td>4.984683</td>\n",
       "    </tr>\n",
       "    <tr>\n",
       "      <th>4</th>\n",
       "      <td>2021-12-04 20:52:44</td>\n",
       "      <td>prometheus_target_interval_length_seconds</td>\n",
       "      <td>localhost:9090</td>\n",
       "      <td>5s</td>\n",
       "      <td>prometheus</td>\n",
       "      <td>0.01</td>\n",
       "      <td>4.984683</td>\n",
       "    </tr>\n",
       "    <tr>\n",
       "      <th>...</th>\n",
       "      <td>...</td>\n",
       "      <td>...</td>\n",
       "      <td>...</td>\n",
       "      <td>...</td>\n",
       "      <td>...</td>\n",
       "      <td>...</td>\n",
       "      <td>...</td>\n",
       "    </tr>\n",
       "    <tr>\n",
       "      <th>56</th>\n",
       "      <td>2021-12-04 20:57:04</td>\n",
       "      <td>prometheus_target_interval_length_seconds</td>\n",
       "      <td>localhost:9090</td>\n",
       "      <td>5s</td>\n",
       "      <td>prometheus</td>\n",
       "      <td>0.01</td>\n",
       "      <td>4.980465</td>\n",
       "    </tr>\n",
       "    <tr>\n",
       "      <th>57</th>\n",
       "      <td>2021-12-04 20:57:09</td>\n",
       "      <td>prometheus_target_interval_length_seconds</td>\n",
       "      <td>localhost:9090</td>\n",
       "      <td>5s</td>\n",
       "      <td>prometheus</td>\n",
       "      <td>0.01</td>\n",
       "      <td>4.980465</td>\n",
       "    </tr>\n",
       "    <tr>\n",
       "      <th>58</th>\n",
       "      <td>2021-12-04 20:57:14</td>\n",
       "      <td>prometheus_target_interval_length_seconds</td>\n",
       "      <td>localhost:9090</td>\n",
       "      <td>5s</td>\n",
       "      <td>prometheus</td>\n",
       "      <td>0.01</td>\n",
       "      <td>4.980465</td>\n",
       "    </tr>\n",
       "    <tr>\n",
       "      <th>59</th>\n",
       "      <td>2021-12-04 20:57:19</td>\n",
       "      <td>prometheus_target_interval_length_seconds</td>\n",
       "      <td>localhost:9090</td>\n",
       "      <td>5s</td>\n",
       "      <td>prometheus</td>\n",
       "      <td>0.01</td>\n",
       "      <td>4.980465</td>\n",
       "    </tr>\n",
       "    <tr>\n",
       "      <th>60</th>\n",
       "      <td>2021-12-04 20:57:24</td>\n",
       "      <td>prometheus_target_interval_length_seconds</td>\n",
       "      <td>localhost:9090</td>\n",
       "      <td>5s</td>\n",
       "      <td>prometheus</td>\n",
       "      <td>0.01</td>\n",
       "      <td>4.982313</td>\n",
       "    </tr>\n",
       "  </tbody>\n",
       "</table>\n",
       "<p>61 rows × 7 columns</p>\n",
       "</div>"
      ],
      "text/plain": [
       "                    ds                                   __name__  \\\n",
       "0  2021-12-04 20:52:24  prometheus_target_interval_length_seconds   \n",
       "1  2021-12-04 20:52:29  prometheus_target_interval_length_seconds   \n",
       "2  2021-12-04 20:52:34  prometheus_target_interval_length_seconds   \n",
       "3  2021-12-04 20:52:39  prometheus_target_interval_length_seconds   \n",
       "4  2021-12-04 20:52:44  prometheus_target_interval_length_seconds   \n",
       "..                 ...                                        ...   \n",
       "56 2021-12-04 20:57:04  prometheus_target_interval_length_seconds   \n",
       "57 2021-12-04 20:57:09  prometheus_target_interval_length_seconds   \n",
       "58 2021-12-04 20:57:14  prometheus_target_interval_length_seconds   \n",
       "59 2021-12-04 20:57:19  prometheus_target_interval_length_seconds   \n",
       "60 2021-12-04 20:57:24  prometheus_target_interval_length_seconds   \n",
       "\n",
       "          instance interval         job quantile         y  \n",
       "0   localhost:9090       5s  prometheus     0.01  4.984683  \n",
       "1   localhost:9090       5s  prometheus     0.01  4.984683  \n",
       "2   localhost:9090       5s  prometheus     0.01  4.984683  \n",
       "3   localhost:9090       5s  prometheus     0.01  4.984683  \n",
       "4   localhost:9090       5s  prometheus     0.01  4.984683  \n",
       "..             ...      ...         ...      ...       ...  \n",
       "56  localhost:9090       5s  prometheus     0.01  4.980465  \n",
       "57  localhost:9090       5s  prometheus     0.01  4.980465  \n",
       "58  localhost:9090       5s  prometheus     0.01  4.980465  \n",
       "59  localhost:9090       5s  prometheus     0.01  4.980465  \n",
       "60  localhost:9090       5s  prometheus     0.01  4.982313  \n",
       "\n",
       "[61 rows x 7 columns]"
      ]
     },
     "execution_count": 108,
     "metadata": {},
     "output_type": "execute_result"
    }
   ],
   "source": [
    "dfgb.get_group(list(dfgb.groups.keys())[0])"
   ]
  },
  {
   "cell_type": "markdown",
   "metadata": {},
   "source": [
    "but maybe there is more efficient way to extract the data. lets explore MetricList:"
   ]
  },
  {
   "cell_type": "code",
   "execution_count": 110,
   "metadata": {},
   "outputs": [],
   "source": [
    "query_range = prom.custom_query_range(query ,\n",
    "                            start_time=start_time,\n",
    "                            end_time=end_time,\n",
    "                            step=step)\n",
    "\n",
    "metric_object_list = MetricsList(query_range)"
   ]
  },
  {
   "cell_type": "code",
   "execution_count": 111,
   "metadata": {},
   "outputs": [
    {
     "data": {
      "text/plain": [
       "[<prometheus_api_client.metric.Metric at 0x18da7354848>,\n",
       " <prometheus_api_client.metric.Metric at 0x18da6a6cac8>,\n",
       " <prometheus_api_client.metric.Metric at 0x18da6a515c8>,\n",
       " <prometheus_api_client.metric.Metric at 0x18da73ac9c8>,\n",
       " <prometheus_api_client.metric.Metric at 0x18da6f1aa48>]"
      ]
     },
     "execution_count": 111,
     "metadata": {},
     "output_type": "execute_result"
    }
   ],
   "source": [
    "metric_object_list"
   ]
  },
  {
   "cell_type": "code",
   "execution_count": 113,
   "metadata": {},
   "outputs": [
    {
     "name": "stdout",
     "output_type": "stream",
     "text": [
      "prometheus_target_interval_length_seconds \n",
      "\n",
      "prometheus_target_interval_length_seconds \n",
      "\n",
      "prometheus_target_interval_length_seconds \n",
      "\n",
      "prometheus_target_interval_length_seconds \n",
      "\n",
      "prometheus_target_interval_length_seconds \n",
      "\n"
     ]
    }
   ],
   "source": [
    "for item in metric_object_list:\n",
    "    print(item.metric_name, \"\\n\")"
   ]
  },
  {
   "cell_type": "code",
   "execution_count": 112,
   "metadata": {},
   "outputs": [
    {
     "name": "stdout",
     "output_type": "stream",
     "text": [
      "prometheus_target_interval_length_seconds {'instance': 'localhost:9090', 'interval': '5s', 'job': 'prometheus', 'quantile': '0.01'} \n",
      "\n",
      "prometheus_target_interval_length_seconds {'instance': 'localhost:9090', 'interval': '5s', 'job': 'prometheus', 'quantile': '0.05'} \n",
      "\n",
      "prometheus_target_interval_length_seconds {'instance': 'localhost:9090', 'interval': '5s', 'job': 'prometheus', 'quantile': '0.5'} \n",
      "\n",
      "prometheus_target_interval_length_seconds {'instance': 'localhost:9090', 'interval': '5s', 'job': 'prometheus', 'quantile': '0.9'} \n",
      "\n",
      "prometheus_target_interval_length_seconds {'instance': 'localhost:9090', 'interval': '5s', 'job': 'prometheus', 'quantile': '0.99'} \n",
      "\n"
     ]
    }
   ],
   "source": [
    "for item in metric_object_list:\n",
    "    print(item.metric_name, item.label_config, \"\\n\")"
   ]
  },
  {
   "cell_type": "markdown",
   "metadata": {},
   "source": [
    "so we can see that MetricList save the name and the labels of the metric. but the big thing is that it saves also the metric values in the exact format that we need in Prophet:"
   ]
  },
  {
   "cell_type": "code",
   "execution_count": 126,
   "metadata": {},
   "outputs": [
    {
     "name": "stdout",
     "output_type": "stream",
     "text": [
      "{\n",
      "metric_name: 'prometheus_target_interval_length_seconds'\n",
      "label_config: {'instance': 'localhost:9090', 'interval': '5s', 'job': 'prometheus', 'quantile': '0.01'}\n",
      "metric_values:                     ds         y\n",
      "0  2021-12-04 18:52:24  4.984683\n",
      "1  2021-12-04 18:52:29  4.984683\n",
      "2  2021-12-04 18:52:34  4.984683\n",
      "3  2021-12-04 18:52:39  4.984683\n",
      "4  2021-12-04 18:52:44  4.984683\n",
      "..                 ...       ...\n",
      "56 2021-12-04 18:57:04  4.980465\n",
      "57 2021-12-04 18:57:09  4.980465\n",
      "58 2021-12-04 18:57:14  4.980465\n",
      "59 2021-12-04 18:57:19  4.980465\n",
      "60 2021-12-04 18:57:24  4.982313\n",
      "\n",
      "[61 rows x 2 columns]\n",
      "}\n",
      "{\n",
      "metric_name: 'prometheus_target_interval_length_seconds'\n",
      "label_config: {'instance': 'localhost:9090', 'interval': '5s', 'job': 'prometheus', 'quantile': '0.05'}\n",
      "metric_values:                     ds         y\n",
      "0  2021-12-04 18:52:24  4.988024\n",
      "1  2021-12-04 18:52:29  4.988024\n",
      "2  2021-12-04 18:52:34  4.988024\n",
      "3  2021-12-04 18:52:39  4.988024\n",
      "4  2021-12-04 18:52:44  4.988024\n",
      "..                 ...       ...\n",
      "56 2021-12-04 18:57:04  4.986723\n",
      "57 2021-12-04 18:57:09  4.986723\n",
      "58 2021-12-04 18:57:14  4.986723\n",
      "59 2021-12-04 18:57:19  4.986723\n",
      "60 2021-12-04 18:57:24  4.987699\n",
      "\n",
      "[61 rows x 2 columns]\n",
      "}\n",
      "{\n",
      "metric_name: 'prometheus_target_interval_length_seconds'\n",
      "label_config: {'instance': 'localhost:9090', 'interval': '5s', 'job': 'prometheus', 'quantile': '0.5'}\n",
      "metric_values:                     ds         y\n",
      "0  2021-12-04 18:52:24  4.999999\n",
      "1  2021-12-04 18:52:29  4.999999\n",
      "2  2021-12-04 18:52:34  5.000223\n",
      "3  2021-12-04 18:52:39  5.000223\n",
      "4  2021-12-04 18:52:44  5.000223\n",
      "..                 ...       ...\n",
      "56 2021-12-04 18:57:04  5.000223\n",
      "57 2021-12-04 18:57:09  5.000199\n",
      "58 2021-12-04 18:57:14  5.000199\n",
      "59 2021-12-04 18:57:19  5.000199\n",
      "60 2021-12-04 18:57:24  5.000199\n",
      "\n",
      "[61 rows x 2 columns]\n",
      "}\n",
      "{\n",
      "metric_name: 'prometheus_target_interval_length_seconds'\n",
      "label_config: {'instance': 'localhost:9090', 'interval': '5s', 'job': 'prometheus', 'quantile': '0.9'}\n",
      "metric_values:                     ds         y\n",
      "0  2021-12-04 18:52:24  5.010203\n",
      "1  2021-12-04 18:52:29  5.010203\n",
      "2  2021-12-04 18:52:34  5.010203\n",
      "3  2021-12-04 18:52:39  5.010203\n",
      "4  2021-12-04 18:52:44  5.010203\n",
      "..                 ...       ...\n",
      "56 2021-12-04 18:57:04  5.009675\n",
      "57 2021-12-04 18:57:09  5.009675\n",
      "58 2021-12-04 18:57:14  5.009675\n",
      "59 2021-12-04 18:57:19  5.009272\n",
      "60 2021-12-04 18:57:24  5.009272\n",
      "\n",
      "[61 rows x 2 columns]\n",
      "}\n",
      "{\n",
      "metric_name: 'prometheus_target_interval_length_seconds'\n",
      "label_config: {'instance': 'localhost:9090', 'interval': '5s', 'job': 'prometheus', 'quantile': '0.99'}\n",
      "metric_values:                     ds         y\n",
      "0  2021-12-04 18:52:24  5.016470\n",
      "1  2021-12-04 18:52:29  5.016470\n",
      "2  2021-12-04 18:52:34  5.016470\n",
      "3  2021-12-04 18:52:39  5.016470\n",
      "4  2021-12-04 18:52:44  5.016470\n",
      "..                 ...       ...\n",
      "56 2021-12-04 18:57:04  5.023239\n",
      "57 2021-12-04 18:57:09  5.023239\n",
      "58 2021-12-04 18:57:14  5.023239\n",
      "59 2021-12-04 18:57:19  5.015134\n",
      "60 2021-12-04 18:57:24  5.015134\n",
      "\n",
      "[61 rows x 2 columns]\n",
      "}\n"
     ]
    }
   ],
   "source": [
    "for item in metric_object_list:\n",
    "    print(item)"
   ]
  },
  {
   "cell_type": "markdown",
   "metadata": {},
   "source": [
    "the metric values are saved as df with the exact column names, ds and y, and the exact format: datetime and float!"
   ]
  },
  {
   "cell_type": "code",
   "execution_count": 143,
   "metadata": {},
   "outputs": [],
   "source": [
    "tmp = metric_object_list[0]"
   ]
  },
  {
   "cell_type": "code",
   "execution_count": 133,
   "metadata": {},
   "outputs": [
    {
     "data": {
      "text/html": [
       "<div>\n",
       "<style scoped>\n",
       "    .dataframe tbody tr th:only-of-type {\n",
       "        vertical-align: middle;\n",
       "    }\n",
       "\n",
       "    .dataframe tbody tr th {\n",
       "        vertical-align: top;\n",
       "    }\n",
       "\n",
       "    .dataframe thead th {\n",
       "        text-align: right;\n",
       "    }\n",
       "</style>\n",
       "<table border=\"1\" class=\"dataframe\">\n",
       "  <thead>\n",
       "    <tr style=\"text-align: right;\">\n",
       "      <th></th>\n",
       "      <th>ds</th>\n",
       "      <th>y</th>\n",
       "    </tr>\n",
       "  </thead>\n",
       "  <tbody>\n",
       "    <tr>\n",
       "      <th>0</th>\n",
       "      <td>2021-12-04 18:52:24</td>\n",
       "      <td>4.984683</td>\n",
       "    </tr>\n",
       "    <tr>\n",
       "      <th>1</th>\n",
       "      <td>2021-12-04 18:52:29</td>\n",
       "      <td>4.984683</td>\n",
       "    </tr>\n",
       "    <tr>\n",
       "      <th>2</th>\n",
       "      <td>2021-12-04 18:52:34</td>\n",
       "      <td>4.984683</td>\n",
       "    </tr>\n",
       "    <tr>\n",
       "      <th>3</th>\n",
       "      <td>2021-12-04 18:52:39</td>\n",
       "      <td>4.984683</td>\n",
       "    </tr>\n",
       "    <tr>\n",
       "      <th>4</th>\n",
       "      <td>2021-12-04 18:52:44</td>\n",
       "      <td>4.984683</td>\n",
       "    </tr>\n",
       "    <tr>\n",
       "      <th>...</th>\n",
       "      <td>...</td>\n",
       "      <td>...</td>\n",
       "    </tr>\n",
       "    <tr>\n",
       "      <th>56</th>\n",
       "      <td>2021-12-04 18:57:04</td>\n",
       "      <td>4.980465</td>\n",
       "    </tr>\n",
       "    <tr>\n",
       "      <th>57</th>\n",
       "      <td>2021-12-04 18:57:09</td>\n",
       "      <td>4.980465</td>\n",
       "    </tr>\n",
       "    <tr>\n",
       "      <th>58</th>\n",
       "      <td>2021-12-04 18:57:14</td>\n",
       "      <td>4.980465</td>\n",
       "    </tr>\n",
       "    <tr>\n",
       "      <th>59</th>\n",
       "      <td>2021-12-04 18:57:19</td>\n",
       "      <td>4.980465</td>\n",
       "    </tr>\n",
       "    <tr>\n",
       "      <th>60</th>\n",
       "      <td>2021-12-04 18:57:24</td>\n",
       "      <td>4.982313</td>\n",
       "    </tr>\n",
       "  </tbody>\n",
       "</table>\n",
       "<p>61 rows × 2 columns</p>\n",
       "</div>"
      ],
      "text/plain": [
       "                    ds         y\n",
       "0  2021-12-04 18:52:24  4.984683\n",
       "1  2021-12-04 18:52:29  4.984683\n",
       "2  2021-12-04 18:52:34  4.984683\n",
       "3  2021-12-04 18:52:39  4.984683\n",
       "4  2021-12-04 18:52:44  4.984683\n",
       "..                 ...       ...\n",
       "56 2021-12-04 18:57:04  4.980465\n",
       "57 2021-12-04 18:57:09  4.980465\n",
       "58 2021-12-04 18:57:14  4.980465\n",
       "59 2021-12-04 18:57:19  4.980465\n",
       "60 2021-12-04 18:57:24  4.982313\n",
       "\n",
       "[61 rows x 2 columns]"
      ]
     },
     "execution_count": 133,
     "metadata": {},
     "output_type": "execute_result"
    }
   ],
   "source": [
    "tmp.metric_values"
   ]
  },
  {
   "cell_type": "code",
   "execution_count": 152,
   "metadata": {},
   "outputs": [
    {
     "data": {
      "text/plain": [
       "ds    datetime64[ns]\n",
       "y            float64\n",
       "dtype: object"
      ]
     },
     "execution_count": 152,
     "metadata": {},
     "output_type": "execute_result"
    }
   ],
   "source": [
    "tmp.metric_values.dtypes"
   ]
  },
  {
   "cell_type": "markdown",
   "metadata": {},
   "source": [
    "also, we can manipulate the label config dict to a string that can be called in prometheus api:"
   ]
  },
  {
   "cell_type": "code",
   "execution_count": 149,
   "metadata": {},
   "outputs": [
    {
     "data": {
      "text/plain": [
       "\"{instance='localhost:9090', interval='5s', job='prometheus', quantile='0.01'}\""
      ]
     },
     "execution_count": 149,
     "metadata": {},
     "output_type": "execute_result"
    }
   ],
   "source": [
    "str(tmp.label_config).replace(\", '\",\", \").replace(\"': \",\"=\").replace(\"{'\",\"{\")"
   ]
  },
  {
   "cell_type": "markdown",
   "metadata": {},
   "source": [
    "but life isn't so easy. when the query is not raw metric but rather some expression we get error when trying to create MetricList object:"
   ]
  },
  {
   "cell_type": "code",
   "execution_count": 170,
   "metadata": {},
   "outputs": [],
   "source": [
    "query = \"rate(go_memstats_alloc_bytes_total[1m])\""
   ]
  },
  {
   "cell_type": "code",
   "execution_count": 171,
   "metadata": {},
   "outputs": [],
   "source": [
    "query_range = prom.custom_query_range(query ,\n",
    "                            start_time=start_time,\n",
    "                            end_time=end_time,\n",
    "                            step=step)\n",
    "\n"
   ]
  },
  {
   "cell_type": "code",
   "execution_count": 172,
   "metadata": {},
   "outputs": [
    {
     "ename": "KeyError",
     "evalue": "'__name__'",
     "output_type": "error",
     "traceback": [
      "\u001b[1;31m---------------------------------------------------------------------------\u001b[0m",
      "\u001b[1;31mKeyError\u001b[0m                                  Traceback (most recent call last)",
      "\u001b[1;32m<ipython-input-172-097d91e7c58f>\u001b[0m in \u001b[0;36m<module>\u001b[1;34m\u001b[0m\n\u001b[1;32m----> 1\u001b[1;33m \u001b[0mmetric_object_list\u001b[0m \u001b[1;33m=\u001b[0m \u001b[0mMetricsList\u001b[0m\u001b[1;33m(\u001b[0m\u001b[0mquery_range\u001b[0m\u001b[1;33m)\u001b[0m\u001b[1;33m\u001b[0m\u001b[1;33m\u001b[0m\u001b[0m\n\u001b[0m",
      "\u001b[1;32m~\\miniconda3\\lib\\site-packages\\prometheus_api_client\\metrics_list.py\u001b[0m in \u001b[0;36m__init__\u001b[1;34m(self, metric_data_list)\u001b[0m\n\u001b[0;32m     43\u001b[0m                     \u001b[0madd_metric_to_object_list\u001b[0m\u001b[1;33m(\u001b[0m\u001b[0mmetric\u001b[0m\u001b[1;33m)\u001b[0m\u001b[1;33m\u001b[0m\u001b[1;33m\u001b[0m\u001b[0m\n\u001b[0;32m     44\u001b[0m             \u001b[1;32melse\u001b[0m\u001b[1;33m:\u001b[0m\u001b[1;33m\u001b[0m\u001b[1;33m\u001b[0m\u001b[0m\n\u001b[1;32m---> 45\u001b[1;33m                 \u001b[0madd_metric_to_object_list\u001b[0m\u001b[1;33m(\u001b[0m\u001b[0mi\u001b[0m\u001b[1;33m)\u001b[0m\u001b[1;33m\u001b[0m\u001b[1;33m\u001b[0m\u001b[0m\n\u001b[0m\u001b[0;32m     46\u001b[0m \u001b[1;33m\u001b[0m\u001b[0m\n\u001b[0;32m     47\u001b[0m         \u001b[0msuper\u001b[0m\u001b[1;33m(\u001b[0m\u001b[0mMetricsList\u001b[0m\u001b[1;33m,\u001b[0m \u001b[0mself\u001b[0m\u001b[1;33m)\u001b[0m\u001b[1;33m.\u001b[0m\u001b[0m__init__\u001b[0m\u001b[1;33m(\u001b[0m\u001b[0mmetric_object_list\u001b[0m\u001b[1;33m)\u001b[0m\u001b[1;33m\u001b[0m\u001b[1;33m\u001b[0m\u001b[0m\n",
      "\u001b[1;32m~\\miniconda3\\lib\\site-packages\\prometheus_api_client\\metrics_list.py\u001b[0m in \u001b[0;36madd_metric_to_object_list\u001b[1;34m(metric)\u001b[0m\n\u001b[0;32m     31\u001b[0m \u001b[1;33m\u001b[0m\u001b[0m\n\u001b[0;32m     32\u001b[0m         \u001b[1;32mdef\u001b[0m \u001b[0madd_metric_to_object_list\u001b[0m\u001b[1;33m(\u001b[0m\u001b[0mmetric\u001b[0m\u001b[1;33m)\u001b[0m\u001b[1;33m:\u001b[0m\u001b[1;33m\u001b[0m\u001b[1;33m\u001b[0m\u001b[0m\n\u001b[1;32m---> 33\u001b[1;33m             \u001b[0mmetric_object\u001b[0m \u001b[1;33m=\u001b[0m \u001b[0mMetric\u001b[0m\u001b[1;33m(\u001b[0m\u001b[0mmetric\u001b[0m\u001b[1;33m)\u001b[0m\u001b[1;33m\u001b[0m\u001b[1;33m\u001b[0m\u001b[0m\n\u001b[0m\u001b[0;32m     34\u001b[0m             \u001b[1;32mif\u001b[0m \u001b[0mmetric_object\u001b[0m \u001b[1;32min\u001b[0m \u001b[0mmetric_object_list\u001b[0m\u001b[1;33m:\u001b[0m\u001b[1;33m\u001b[0m\u001b[1;33m\u001b[0m\u001b[0m\n\u001b[0;32m     35\u001b[0m                 \u001b[0mmetric_object_list\u001b[0m\u001b[1;33m[\u001b[0m\u001b[0mmetric_object_list\u001b[0m\u001b[1;33m.\u001b[0m\u001b[0mindex\u001b[0m\u001b[1;33m(\u001b[0m\u001b[0mmetric_object\u001b[0m\u001b[1;33m)\u001b[0m\u001b[1;33m]\u001b[0m \u001b[1;33m+=\u001b[0m \u001b[0mmetric_object\u001b[0m\u001b[1;33m\u001b[0m\u001b[1;33m\u001b[0m\u001b[0m\n",
      "\u001b[1;32m~\\miniconda3\\lib\\site-packages\\prometheus_api_client\\metric.py\u001b[0m in \u001b[0;36m__init__\u001b[1;34m(self, metric, oldest_data_datetime)\u001b[0m\n\u001b[0;32m     61\u001b[0m             \u001b[0mself\u001b[0m\u001b[1;33m.\u001b[0m\u001b[0moldest_data_datetime\u001b[0m \u001b[1;33m=\u001b[0m \u001b[0moldest_data_datetime\u001b[0m\u001b[1;33m\u001b[0m\u001b[1;33m\u001b[0m\u001b[0m\n\u001b[0;32m     62\u001b[0m         \u001b[1;32melse\u001b[0m\u001b[1;33m:\u001b[0m\u001b[1;33m\u001b[0m\u001b[1;33m\u001b[0m\u001b[0m\n\u001b[1;32m---> 63\u001b[1;33m             \u001b[0mself\u001b[0m\u001b[1;33m.\u001b[0m\u001b[0mmetric_name\u001b[0m \u001b[1;33m=\u001b[0m \u001b[0mmetric\u001b[0m\u001b[1;33m[\u001b[0m\u001b[1;34m\"metric\"\u001b[0m\u001b[1;33m]\u001b[0m\u001b[1;33m[\u001b[0m\u001b[1;34m\"__name__\"\u001b[0m\u001b[1;33m]\u001b[0m\u001b[1;33m\u001b[0m\u001b[1;33m\u001b[0m\u001b[0m\n\u001b[0m\u001b[0;32m     64\u001b[0m             \u001b[0mself\u001b[0m\u001b[1;33m.\u001b[0m\u001b[0mlabel_config\u001b[0m \u001b[1;33m=\u001b[0m \u001b[0mdeepcopy\u001b[0m\u001b[1;33m(\u001b[0m\u001b[0mmetric\u001b[0m\u001b[1;33m[\u001b[0m\u001b[1;34m\"metric\"\u001b[0m\u001b[1;33m]\u001b[0m\u001b[1;33m)\u001b[0m\u001b[1;33m\u001b[0m\u001b[1;33m\u001b[0m\u001b[0m\n\u001b[0;32m     65\u001b[0m             \u001b[0mself\u001b[0m\u001b[1;33m.\u001b[0m\u001b[0moldest_data_datetime\u001b[0m \u001b[1;33m=\u001b[0m \u001b[0moldest_data_datetime\u001b[0m\u001b[1;33m\u001b[0m\u001b[1;33m\u001b[0m\u001b[0m\n",
      "\u001b[1;31mKeyError\u001b[0m: '__name__'"
     ]
    }
   ],
   "source": [
    "metric_object_list = MetricsList(query_range)"
   ]
  },
  {
   "cell_type": "markdown",
   "metadata": {},
   "source": [
    "Of course: expressions doesn't have \\_\\_name\\_\\_ property... hence it seems that MetricList is suited only to basic metrics. what about MetricRangeDataFrame()? let's check:"
   ]
  },
  {
   "cell_type": "code",
   "execution_count": 173,
   "metadata": {},
   "outputs": [],
   "source": [
    "df = MetricRangeDataFrame(query_range)"
   ]
  },
  {
   "cell_type": "code",
   "execution_count": 174,
   "metadata": {},
   "outputs": [
    {
     "data": {
      "text/html": [
       "<div>\n",
       "<style scoped>\n",
       "    .dataframe tbody tr th:only-of-type {\n",
       "        vertical-align: middle;\n",
       "    }\n",
       "\n",
       "    .dataframe tbody tr th {\n",
       "        vertical-align: top;\n",
       "    }\n",
       "\n",
       "    .dataframe thead th {\n",
       "        text-align: right;\n",
       "    }\n",
       "</style>\n",
       "<table border=\"1\" class=\"dataframe\">\n",
       "  <thead>\n",
       "    <tr style=\"text-align: right;\">\n",
       "      <th></th>\n",
       "      <th>instance</th>\n",
       "      <th>job</th>\n",
       "      <th>value</th>\n",
       "    </tr>\n",
       "    <tr>\n",
       "      <th>timestamp</th>\n",
       "      <th></th>\n",
       "      <th></th>\n",
       "      <th></th>\n",
       "    </tr>\n",
       "  </thead>\n",
       "  <tbody>\n",
       "    <tr>\n",
       "      <th>1638643944</th>\n",
       "      <td>localhost:9090</td>\n",
       "      <td>prometheus</td>\n",
       "      <td>59872.70875763747</td>\n",
       "    </tr>\n",
       "    <tr>\n",
       "      <th>1638643949</th>\n",
       "      <td>localhost:9090</td>\n",
       "      <td>prometheus</td>\n",
       "      <td>61841.572277875755</td>\n",
       "    </tr>\n",
       "    <tr>\n",
       "      <th>1638643954</th>\n",
       "      <td>localhost:9090</td>\n",
       "      <td>prometheus</td>\n",
       "      <td>61986.18181818181</td>\n",
       "    </tr>\n",
       "    <tr>\n",
       "      <th>1638643959</th>\n",
       "      <td>localhost:9090</td>\n",
       "      <td>prometheus</td>\n",
       "      <td>61616.62515226996</td>\n",
       "    </tr>\n",
       "    <tr>\n",
       "      <th>1638643964</th>\n",
       "      <td>localhost:9090</td>\n",
       "      <td>prometheus</td>\n",
       "      <td>63621.77692111866</td>\n",
       "    </tr>\n",
       "  </tbody>\n",
       "</table>\n",
       "</div>"
      ],
      "text/plain": [
       "                  instance         job               value\n",
       "timestamp                                                 \n",
       "1638643944  localhost:9090  prometheus   59872.70875763747\n",
       "1638643949  localhost:9090  prometheus  61841.572277875755\n",
       "1638643954  localhost:9090  prometheus   61986.18181818181\n",
       "1638643959  localhost:9090  prometheus   61616.62515226996\n",
       "1638643964  localhost:9090  prometheus   63621.77692111866"
      ]
     },
     "execution_count": 174,
     "metadata": {},
     "output_type": "execute_result"
    }
   ],
   "source": [
    "df.head()"
   ]
  },
  {
   "cell_type": "markdown",
   "metadata": {},
   "source": [
    "so MetricRangeDataFrame can handle this cases by ommiting the \\_\\_name\\_\\_ column"
   ]
  },
  {
   "cell_type": "markdown",
   "metadata": {},
   "source": [
    "let's see if it can handle expressions that output multiple time-series as in expression on summary metric:"
   ]
  },
  {
   "cell_type": "code",
   "execution_count": 176,
   "metadata": {},
   "outputs": [],
   "source": [
    "query = \"rate(prometheus_target_interval_length_seconds[1m])\"\n",
    "query_range = prom.custom_query_range(query ,\n",
    "                            start_time=start_time,\n",
    "                            end_time=end_time,\n",
    "                            step=step)"
   ]
  },
  {
   "cell_type": "code",
   "execution_count": 177,
   "metadata": {},
   "outputs": [
    {
     "data": {
      "text/plain": [
       "5"
      ]
     },
     "execution_count": 177,
     "metadata": {},
     "output_type": "execute_result"
    }
   ],
   "source": [
    "len(query_range)"
   ]
  },
  {
   "cell_type": "code",
   "execution_count": 178,
   "metadata": {},
   "outputs": [
    {
     "data": {
      "text/plain": [
       "[{'metric': {'instance': 'localhost:9090',\n",
       "   'interval': '5s',\n",
       "   'job': 'prometheus',\n",
       "   'quantile': '0.01'},\n",
       "  'values': [[1638643944, '0'],\n",
       "   [1638643949, '0'],\n",
       "   [1638643954, '0'],\n",
       "   [1638643959, '0'],\n",
       "   [1638643964, '0'],\n",
       "   [1638643969, '0'],\n",
       "   [1638643974, '0'],\n",
       "   [1638643979, '0'],\n",
       "   [1638643984, '0'],\n",
       "   [1638643989, '0'],\n",
       "   [1638643994, '0.09062221111191912'],\n",
       "   [1638643999, '0.0906156213641652'],\n",
       "   [1638644004, '0.09062730627977164'],\n",
       "   [1638644009, '0.09062565860043997'],\n",
       "   [1638644014, '0.09062895401901784'],\n",
       "   [1638644019, '0.09061412652245046'],\n",
       "   [1638644024, '0.0906306018181818'],\n",
       "   [1638644029, '0.0906421380903024'],\n",
       "   [1638644034, '0.09064213809030242'],\n",
       "   [1638644039, '0.09061083218206936'],\n",
       "   [1638644044, '0.1813055541410541'],\n",
       "   [1638644049, '0.09061906848219319'],\n",
       "   [1638644054, '0.0906437863689264'],\n",
       "   [1638644059, '0.09061397407696922'],\n",
       "   [1638644064, '0.09061067968224538'],\n",
       "   [1638644069, '0.18124596934043752'],\n",
       "   [1638644074, '0.18122619597432588'],\n",
       "   [1638644079, '0.18125915398185027'],\n",
       "   [1638644084, '0.18121960581101476'],\n",
       "   [1638644089, '0.1812163109090909'],\n",
       "   [1638644094, '0.18127234054162197'],\n",
       "   [1638644099, '0.09057598123875144'],\n",
       "   [1638644104, '0.1811677771312191'],\n",
       "   [1638644109, '0.18112825249072795'],\n",
       "   [1638644114, '0.18118754592077982'],\n",
       "   [1638644119, '0.1811677771312191'],\n",
       "   [1638644124, '0.09056774885479531'],\n",
       "   [1638644129, '0.09059903987780263'],\n",
       "   [1638644134, '0.09058092138753544'],\n",
       "   [1638644139, '0.09060233492753358'],\n",
       "   [1638644144, '0.09057268810558271'],\n",
       "   [1638644149, '0.09059739244281192'],\n",
       "   [1638644154, '0.09059739244281192'],\n",
       "   [1638644159, '0.00003358967366602338'],\n",
       "   [1638644164, '0.00003358723118034533'],\n",
       "   [1638644169, '0.000033582347274471825'],\n",
       "   [1638644174, '0.00003359211650696562'],\n",
       "   [1638644179, '0'],\n",
       "   [1638644184, '0'],\n",
       "   [1638644189, '0'],\n",
       "   [1638644194, '0'],\n",
       "   [1638644199, '0'],\n",
       "   [1638644204, '0'],\n",
       "   [1638644209, '0'],\n",
       "   [1638644214, '0'],\n",
       "   [1638644219, '0.09054568493773293'],\n",
       "   [1638644224, '0.09055885593759659'],\n",
       "   [1638644229, '0.09054897732850936'],\n",
       "   [1638644234, '0.0905786196235337'],\n",
       "   [1638644239, '0.09055062361368678'],\n",
       "   [1638644244, '0.09058915616647575']]},\n",
       " {'metric': {'instance': 'localhost:9090',\n",
       "   'interval': '5s',\n",
       "   'job': 'prometheus',\n",
       "   'quantile': '0.05'},\n",
       "  'values': [[1638643944, '0'],\n",
       "   [1638643949, '0'],\n",
       "   [1638643954, '0'],\n",
       "   [1638643959, '0'],\n",
       "   [1638643964, '0'],\n",
       "   [1638643969, '0'],\n",
       "   [1638643974, '0'],\n",
       "   [1638643979, '0'],\n",
       "   [1638643984, '0.000020709338471884524'],\n",
       "   [1638643989, '0.00002070670350443318'],\n",
       "   [1638643994, '0.09070545778488835'],\n",
       "   [1638643999, '0.09069886198371145'],\n",
       "   [1638644004, '0.09072946801934474'],\n",
       "   [1638644009, '0.0907278184826282'],\n",
       "   [1638644014, '0.09073111761604333'],\n",
       "   [1638644019, '0.09071627340483547'],\n",
       "   [1638644024, '0.09073276727272725'],\n",
       "   [1638644029, '0.090744316549379'],\n",
       "   [1638644034, '0.09074431654937902'],\n",
       "   [1638644039, '0.09069226714171452'],\n",
       "   [1638644044, '0.18144958353035315'],\n",
       "   [1638644049, '0.09070051084407439'],\n",
       "   [1638644054, '0.09072525094559207'],\n",
       "   [1638644059, '0.09067650384482538'],\n",
       "   [1638644064, '0.09067320717674647'],\n",
       "   [1638644069, '0.1814064610572639'],\n",
       "   [1638644074, '0.18138667018200988'],\n",
       "   [1638644079, '0.27211846800152767'],\n",
       "   [1638644084, '0.27205909561992037'],\n",
       "   [1638644089, '0.2720541490909091'],\n",
       "   [1638644094, '0.2721382645544987'],\n",
       "   [1638644099, '0.1813397276710237'],\n",
       "   [1638644104, '0.2720700792842595'],\n",
       "   [1638644109, '0.2720107228565195'],\n",
       "   [1638644114, '0.2720997672134725'],\n",
       "   [1638644119, '0.2720700792842595'],\n",
       "   [1638644124, '0.18132324583727186'],\n",
       "   [1638644129, '0.18138589274998637'],\n",
       "   [1638644134, '0.09067883972074758'],\n",
       "   [1638644139, '0.09070027640886691'],\n",
       "   [1638644144, '0.09067059753858459'],\n",
       "   [1638644149, '0.09069532858129976'],\n",
       "   [1638644154, '0.09069532858129976'],\n",
       "   [1638644159, '0.00001773475138623794'],\n",
       "   [1638644164, '0.00001773346179716079'],\n",
       "   [1638644169, '0.00001773088318156239'],\n",
       "   [1638644174, '0.000017736041162888274'],\n",
       "   [1638644179, '0'],\n",
       "   [1638644184, '0'],\n",
       "   [1638644189, '0'],\n",
       "   [1638644194, '0'],\n",
       "   [1638644199, '0'],\n",
       "   [1638644204, '0'],\n",
       "   [1638644209, '0'],\n",
       "   [1638644214, '0'],\n",
       "   [1638644219, '0.09065945641305337'],\n",
       "   [1638644224, '0.09067264396239795'],\n",
       "   [1638644229, '0.09066275294074869'],\n",
       "   [1638644234, '0.09069243248158589'],\n",
       "   [1638644239, '0.09066440129449838'],\n",
       "   [1638644244, '0.09068708340151639']]},\n",
       " {'metric': {'instance': 'localhost:9090',\n",
       "   'interval': '5s',\n",
       "   'job': 'prometheus',\n",
       "   'quantile': '0.5'},\n",
       "  'values': [[1638643944, '0.1818499472650567'],\n",
       "   [1638643949, '0.1818135792593131'],\n",
       "   [1638643954, '0.18182756545454543'],\n",
       "   [1638643959, '0.18181890511081616'],\n",
       "   [1638643964, '0.18184204822344255'],\n",
       "   [1638643969, '0.18180898843720456'],\n",
       "   [1638643974, '0.1818064666848468'],\n",
       "   [1638643979, '0.2727212588404269'],\n",
       "   [1638643984, '0.1817986002290534'],\n",
       "   [1638643989, '0.18177418387378216'],\n",
       "   [1638643994, '0.09091266635153807'],\n",
       "   [1638643999, '0.09090477021524143'],\n",
       "   [1638644004, '0.09091468673866407'],\n",
       "   [1638644009, '0.09090896496554733'],\n",
       "   [1638644014, '0.09091544881002164'],\n",
       "   [1638644019, '0.09090057444101073'],\n",
       "   [1638644024, '0.09091710181818181'],\n",
       "   [1638644029, '0.1818526030585711'],\n",
       "   [1638644034, '0.09092789082246834'],\n",
       "   [1638644039, '0.09089648622118811'],\n",
       "   [1638644044, '0.09093946640963155'],\n",
       "   [1638644049, '0.09090474848655626'],\n",
       "   [1638644054, '0.09092954429735234'],\n",
       "   [1638644059, '0.09090144340017088'],\n",
       "   [1638644064, '0.09090131610041628'],\n",
       "   [1638644069, '0.1818592169627757'],\n",
       "   [1638644074, '0.18184255504845717'],\n",
       "   [1638644079, '0.2728102587884409'],\n",
       "   [1638644084, '0.18183912071128566'],\n",
       "   [1638644089, '0.2727489545454545'],\n",
       "   [1638644094, '0.2728364639979631'],\n",
       "   [1638644099, '0.27271742323704257'],\n",
       "   [1638644104, '0.27279252800407333'],\n",
       "   [1638644109, '0.3636427205294161'],\n",
       "   [1638644114, '0.363761761175572'],\n",
       "   [1638644119, '0.3637188936572592'],\n",
       "   [1638644124, '0.2726940685668582'],\n",
       "   [1638644129, '0.3637129961995163'],\n",
       "   [1638644134, '0.27273373027416187'],\n",
       "   [1638644139, '0.36372304558927826'],\n",
       "   [1638644144, '0.2727089403552146'],\n",
       "   [1638644149, '0.3637032039858894'],\n",
       "   [1638644154, '0.36370638251445614'],\n",
       "   [1638644159, '0.36363293155167703'],\n",
       "   [1638644164, '0.27270576269337743'],\n",
       "   [1638644169, '0.2726661086573241'],\n",
       "   [1638644174, '0.27274542826494064'],\n",
       "   [1638644179, '0.2726951318827143'],\n",
       "   [1638644184, '0.18181682392509776'],\n",
       "   [1638644189, '0.2727100039994183'],\n",
       "   [1638644194, '0.18182991891203956'],\n",
       "   [1638644199, '0.27278121033586095'],\n",
       "   [1638644204, '0.18178695264927747'],\n",
       "   [1638644209, '0.27270682627981385'],\n",
       "   [1638644214, '0.27271674180998434'],\n",
       "   [1638644219, '0.2727209835469503'],\n",
       "   [1638644224, '0.2727606542175028'],\n",
       "   [1638644229, '0.3636386506190572'],\n",
       "   [1638644234, '0.36375769209784486'],\n",
       "   [1638644239, '0.3636452619904731'],\n",
       "   [1638644244, '0.27274712631138753']]},\n",
       " {'metric': {'instance': 'localhost:9090',\n",
       "   'interval': '5s',\n",
       "   'job': 'prometheus',\n",
       "   'quantile': '0.9'},\n",
       "  'values': [[1638643944, '0.09110785023276113'],\n",
       "   [1638643949, '0.0910896296565642'],\n",
       "   [1638643954, '0.09109459818181817'],\n",
       "   [1638643959, '0.09109294194651006'],\n",
       "   [1638643964, '0.09110453685856638'],\n",
       "   [1638643969, '0.09108797360191986'],\n",
       "   [1638643974, '0.09108631760749024'],\n",
       "   [1638643979, '0.18217239423304185'],\n",
       "   [1638643984, '0.18213860095620718'],\n",
       "   [1638643989, '0.18211542642140469'],\n",
       "   [1638643994, '0.18215515780670496'],\n",
       "   [1638643999, '0.27320299956369987'],\n",
       "   [1638644004, '0.27323280244354753'],\n",
       "   [1638644009, '0.2732278348453721'],\n",
       "   [1638644014, '0.2732377702223596'],\n",
       "   [1638644019, '0.27319306671514276'],\n",
       "   [1638644024, '0.2732427381818182'],\n",
       "   [1638644029, '0.2732775189569582'],\n",
       "   [1638644034, '0.18217819176986166'],\n",
       "   [1638644039, '0.09106080491529121'],\n",
       "   [1638644044, '0.09110386280144038'],\n",
       "   [1638644049, '0.18213182504044942'],\n",
       "   [1638644054, '0.09109392275240036'],\n",
       "   [1638644059, '0.09107211001836063'],\n",
       "   [1638644064, '0.09106879896747924'],\n",
       "   [1638644069, '0.09110192031423324'],\n",
       "   [1638644074, '0.0910963052530138'],\n",
       "   [1638644079, '0.09111287213341335'],\n",
       "   [1638644084, '0.09109299259986545'],\n",
       "   [1638644089, '0.09109133636363635'],\n",
       "   [1638644094, '0.0911131586126621'],\n",
       "   [1638644099, '0.1821424873197957'],\n",
       "   [1638644104, '0.09110891220541169'],\n",
       "   [1638644109, '0.09108903534288415'],\n",
       "   [1638644114, '0.09111251227585204'],\n",
       "   [1638644119, '0.18219350087285424'],\n",
       "   [1638644124, '0.1821272631425871'],\n",
       "   [1638644129, '0.1821858636553743'],\n",
       "   [1638644134, '0.1821494291324267'],\n",
       "   [1638644139, '0.18219248968012947'],\n",
       "   [1638644144, '0.18213287280263227'],\n",
       "   [1638644149, '0.18218255082372622'],\n",
       "   [1638644154, '0.09109194093901153'],\n",
       "   [1638644159, '0.09106940096354878'],\n",
       "   [1638644164, '0.0910627788180116'],\n",
       "   [1638644169, '0.18209572859298037'],\n",
       "   [1638644174, '0.09107267686042071'],\n",
       "   [1638644179, '0.09105946810637873'],\n",
       "   [1638644184, '0.09106940096354879'],\n",
       "   [1638644189, '0.09106443426410706'],\n",
       "   [1638644194, '0.09107436820479256'],\n",
       "   [1638644199, '0.09108927318022293'],\n",
       "   [1638644204, '0.09106016177406162'],\n",
       "   [1638644209, '0.09107174956369983'],\n",
       "   [1638644214, '0.09107506090244702'],\n",
       "   [1638644219, '0.09107671666212164'],\n",
       "   [1638644224, '0.000010664218048253966'],\n",
       "   [1638644229, '0.00001066305474246538'],\n",
       "   [1638644234, '0.000007318359552597633'],\n",
       "   [1638644239, '0.091081684302389'],\n",
       "   [1638644244, '0.09108665248459064']]},\n",
       " {'metric': {'instance': 'localhost:9090',\n",
       "   'interval': '5s',\n",
       "   'job': 'prometheus',\n",
       "   'quantile': '0.99'},\n",
       "  'values': [[1638643944, '0'],\n",
       "   [1638643949, '0'],\n",
       "   [1638643954, '0'],\n",
       "   [1638643959, '0'],\n",
       "   [1638643964, '0'],\n",
       "   [1638643969, '0'],\n",
       "   [1638643974, '0'],\n",
       "   [1638643979, '0'],\n",
       "   [1638643984, '0.09116933592684832'],\n",
       "   [1638643989, '0.0911577359313654'],\n",
       "   [1638643994, '0.0911776234455676'],\n",
       "   [1638643999, '0.18232942844677133'],\n",
       "   [1638644004, '0.18234931820661066'],\n",
       "   [1638644009, '0.18234600294529388'],\n",
       "   [1638644014, '0.18235263358848017'],\n",
       "   [1638644019, '0.1823227994910016'],\n",
       "   [1638644024, '0.18235594909090908'],\n",
       "   [1638644029, '0.1823791609841252'],\n",
       "   [1638644034, '0.18237916098412527'],\n",
       "   [1638644039, '0.09116436413873337'],\n",
       "   [1638644044, '0.0912074709926163'],\n",
       "   [1638644049, '0.09117265075354046'],\n",
       "   [1638644054, '0.000012561827174863661'],\n",
       "   [1638644059, '0.00001255794506353692'],\n",
       "   [1638644064, '0.000012557488502301405'],\n",
       "   [1638644069, '0.000012562055609101534'],\n",
       "   [1638644074, '0.000012560685128281587'],\n",
       "   [1638644079, '0.00001256296942913966'],\n",
       "   [1638644084, '0.000012560228367790368'],\n",
       "   [1638644089, '0.000012560000000001862'],\n",
       "   [1638644094, '0'],\n",
       "   [1638644099, '0'],\n",
       "   [1638644104, '0.0001473832557462939'],\n",
       "   [1638644109, '0.00014735110173805891'],\n",
       "   [1638644114, '0.00014739933801331598'],\n",
       "   [1638644119, '0.09134490289496654'],\n",
       "   [1638644124, '0.09131169381225913'],\n",
       "   [1638644129, '0.09134324186714672'],\n",
       "   [1638644134, '0.09132497454730565'],\n",
       "   [1638644139, '0.09134656398319725'],\n",
       "   [1638644144, '0.09131667363522332'],\n",
       "   [1638644149, '0.09134158089973451'],\n",
       "   [1638644154, '0.09134158089973451'],\n",
       "   [1638644159, '0.09117596582128897'],\n",
       "   [1638644164, '0.09116933592684832'],\n",
       "   [1638644169, '0.09115607903011796'],\n",
       "   [1638644174, '0'],\n",
       "   [1638644179, '0'],\n",
       "   [1638644184, '0'],\n",
       "   [1638644189, '0'],\n",
       "   [1638644194, '0'],\n",
       "   [1638644199, '0'],\n",
       "   [1638644204, '0'],\n",
       "   [1638644209, '0'],\n",
       "   [1638644214, '0'],\n",
       "   [1638644219, '0.00014734842287065163'],\n",
       "   [1638644224, '0.00014736985653763284'],\n",
       "   [1638644229, '0.00014735378070287425'],\n",
       "   [1638644234, '0.00014740201873238506'],\n",
       "   [1638644239, '0.0913282953347151'],\n",
       "   [1638644244, '0.09133327696867216']]}]"
      ]
     },
     "execution_count": 178,
     "metadata": {},
     "output_type": "execute_result"
    }
   ],
   "source": [
    "query_range"
   ]
  },
  {
   "cell_type": "code",
   "execution_count": 179,
   "metadata": {},
   "outputs": [
    {
     "ename": "KeyError",
     "evalue": "'__name__'",
     "output_type": "error",
     "traceback": [
      "\u001b[1;31m---------------------------------------------------------------------------\u001b[0m",
      "\u001b[1;31mKeyError\u001b[0m                                  Traceback (most recent call last)",
      "\u001b[1;32m<ipython-input-179-097d91e7c58f>\u001b[0m in \u001b[0;36m<module>\u001b[1;34m\u001b[0m\n\u001b[1;32m----> 1\u001b[1;33m \u001b[0mmetric_object_list\u001b[0m \u001b[1;33m=\u001b[0m \u001b[0mMetricsList\u001b[0m\u001b[1;33m(\u001b[0m\u001b[0mquery_range\u001b[0m\u001b[1;33m)\u001b[0m\u001b[1;33m\u001b[0m\u001b[1;33m\u001b[0m\u001b[0m\n\u001b[0m",
      "\u001b[1;32m~\\miniconda3\\lib\\site-packages\\prometheus_api_client\\metrics_list.py\u001b[0m in \u001b[0;36m__init__\u001b[1;34m(self, metric_data_list)\u001b[0m\n\u001b[0;32m     43\u001b[0m                     \u001b[0madd_metric_to_object_list\u001b[0m\u001b[1;33m(\u001b[0m\u001b[0mmetric\u001b[0m\u001b[1;33m)\u001b[0m\u001b[1;33m\u001b[0m\u001b[1;33m\u001b[0m\u001b[0m\n\u001b[0;32m     44\u001b[0m             \u001b[1;32melse\u001b[0m\u001b[1;33m:\u001b[0m\u001b[1;33m\u001b[0m\u001b[1;33m\u001b[0m\u001b[0m\n\u001b[1;32m---> 45\u001b[1;33m                 \u001b[0madd_metric_to_object_list\u001b[0m\u001b[1;33m(\u001b[0m\u001b[0mi\u001b[0m\u001b[1;33m)\u001b[0m\u001b[1;33m\u001b[0m\u001b[1;33m\u001b[0m\u001b[0m\n\u001b[0m\u001b[0;32m     46\u001b[0m \u001b[1;33m\u001b[0m\u001b[0m\n\u001b[0;32m     47\u001b[0m         \u001b[0msuper\u001b[0m\u001b[1;33m(\u001b[0m\u001b[0mMetricsList\u001b[0m\u001b[1;33m,\u001b[0m \u001b[0mself\u001b[0m\u001b[1;33m)\u001b[0m\u001b[1;33m.\u001b[0m\u001b[0m__init__\u001b[0m\u001b[1;33m(\u001b[0m\u001b[0mmetric_object_list\u001b[0m\u001b[1;33m)\u001b[0m\u001b[1;33m\u001b[0m\u001b[1;33m\u001b[0m\u001b[0m\n",
      "\u001b[1;32m~\\miniconda3\\lib\\site-packages\\prometheus_api_client\\metrics_list.py\u001b[0m in \u001b[0;36madd_metric_to_object_list\u001b[1;34m(metric)\u001b[0m\n\u001b[0;32m     31\u001b[0m \u001b[1;33m\u001b[0m\u001b[0m\n\u001b[0;32m     32\u001b[0m         \u001b[1;32mdef\u001b[0m \u001b[0madd_metric_to_object_list\u001b[0m\u001b[1;33m(\u001b[0m\u001b[0mmetric\u001b[0m\u001b[1;33m)\u001b[0m\u001b[1;33m:\u001b[0m\u001b[1;33m\u001b[0m\u001b[1;33m\u001b[0m\u001b[0m\n\u001b[1;32m---> 33\u001b[1;33m             \u001b[0mmetric_object\u001b[0m \u001b[1;33m=\u001b[0m \u001b[0mMetric\u001b[0m\u001b[1;33m(\u001b[0m\u001b[0mmetric\u001b[0m\u001b[1;33m)\u001b[0m\u001b[1;33m\u001b[0m\u001b[1;33m\u001b[0m\u001b[0m\n\u001b[0m\u001b[0;32m     34\u001b[0m             \u001b[1;32mif\u001b[0m \u001b[0mmetric_object\u001b[0m \u001b[1;32min\u001b[0m \u001b[0mmetric_object_list\u001b[0m\u001b[1;33m:\u001b[0m\u001b[1;33m\u001b[0m\u001b[1;33m\u001b[0m\u001b[0m\n\u001b[0;32m     35\u001b[0m                 \u001b[0mmetric_object_list\u001b[0m\u001b[1;33m[\u001b[0m\u001b[0mmetric_object_list\u001b[0m\u001b[1;33m.\u001b[0m\u001b[0mindex\u001b[0m\u001b[1;33m(\u001b[0m\u001b[0mmetric_object\u001b[0m\u001b[1;33m)\u001b[0m\u001b[1;33m]\u001b[0m \u001b[1;33m+=\u001b[0m \u001b[0mmetric_object\u001b[0m\u001b[1;33m\u001b[0m\u001b[1;33m\u001b[0m\u001b[0m\n",
      "\u001b[1;32m~\\miniconda3\\lib\\site-packages\\prometheus_api_client\\metric.py\u001b[0m in \u001b[0;36m__init__\u001b[1;34m(self, metric, oldest_data_datetime)\u001b[0m\n\u001b[0;32m     61\u001b[0m             \u001b[0mself\u001b[0m\u001b[1;33m.\u001b[0m\u001b[0moldest_data_datetime\u001b[0m \u001b[1;33m=\u001b[0m \u001b[0moldest_data_datetime\u001b[0m\u001b[1;33m\u001b[0m\u001b[1;33m\u001b[0m\u001b[0m\n\u001b[0;32m     62\u001b[0m         \u001b[1;32melse\u001b[0m\u001b[1;33m:\u001b[0m\u001b[1;33m\u001b[0m\u001b[1;33m\u001b[0m\u001b[0m\n\u001b[1;32m---> 63\u001b[1;33m             \u001b[0mself\u001b[0m\u001b[1;33m.\u001b[0m\u001b[0mmetric_name\u001b[0m \u001b[1;33m=\u001b[0m \u001b[0mmetric\u001b[0m\u001b[1;33m[\u001b[0m\u001b[1;34m\"metric\"\u001b[0m\u001b[1;33m]\u001b[0m\u001b[1;33m[\u001b[0m\u001b[1;34m\"__name__\"\u001b[0m\u001b[1;33m]\u001b[0m\u001b[1;33m\u001b[0m\u001b[1;33m\u001b[0m\u001b[0m\n\u001b[0m\u001b[0;32m     64\u001b[0m             \u001b[0mself\u001b[0m\u001b[1;33m.\u001b[0m\u001b[0mlabel_config\u001b[0m \u001b[1;33m=\u001b[0m \u001b[0mdeepcopy\u001b[0m\u001b[1;33m(\u001b[0m\u001b[0mmetric\u001b[0m\u001b[1;33m[\u001b[0m\u001b[1;34m\"metric\"\u001b[0m\u001b[1;33m]\u001b[0m\u001b[1;33m)\u001b[0m\u001b[1;33m\u001b[0m\u001b[1;33m\u001b[0m\u001b[0m\n\u001b[0;32m     65\u001b[0m             \u001b[0mself\u001b[0m\u001b[1;33m.\u001b[0m\u001b[0moldest_data_datetime\u001b[0m \u001b[1;33m=\u001b[0m \u001b[0moldest_data_datetime\u001b[0m\u001b[1;33m\u001b[0m\u001b[1;33m\u001b[0m\u001b[0m\n",
      "\u001b[1;31mKeyError\u001b[0m: '__name__'"
     ]
    }
   ],
   "source": [
    "metric_object_list = MetricsList(query_range)"
   ]
  },
  {
   "cell_type": "markdown",
   "metadata": {},
   "source": [
    "again, MetricsList failed but MetricRangeDataFrame can handle it:"
   ]
  },
  {
   "cell_type": "code",
   "execution_count": 180,
   "metadata": {},
   "outputs": [
    {
     "data": {
      "text/html": [
       "<div>\n",
       "<style scoped>\n",
       "    .dataframe tbody tr th:only-of-type {\n",
       "        vertical-align: middle;\n",
       "    }\n",
       "\n",
       "    .dataframe tbody tr th {\n",
       "        vertical-align: top;\n",
       "    }\n",
       "\n",
       "    .dataframe thead th {\n",
       "        text-align: right;\n",
       "    }\n",
       "</style>\n",
       "<table border=\"1\" class=\"dataframe\">\n",
       "  <thead>\n",
       "    <tr style=\"text-align: right;\">\n",
       "      <th></th>\n",
       "      <th>instance</th>\n",
       "      <th>interval</th>\n",
       "      <th>job</th>\n",
       "      <th>quantile</th>\n",
       "      <th>value</th>\n",
       "    </tr>\n",
       "    <tr>\n",
       "      <th>timestamp</th>\n",
       "      <th></th>\n",
       "      <th></th>\n",
       "      <th></th>\n",
       "      <th></th>\n",
       "      <th></th>\n",
       "    </tr>\n",
       "  </thead>\n",
       "  <tbody>\n",
       "    <tr>\n",
       "      <th>1638643944</th>\n",
       "      <td>localhost:9090</td>\n",
       "      <td>5s</td>\n",
       "      <td>prometheus</td>\n",
       "      <td>0.01</td>\n",
       "      <td>0</td>\n",
       "    </tr>\n",
       "    <tr>\n",
       "      <th>1638643949</th>\n",
       "      <td>localhost:9090</td>\n",
       "      <td>5s</td>\n",
       "      <td>prometheus</td>\n",
       "      <td>0.01</td>\n",
       "      <td>0</td>\n",
       "    </tr>\n",
       "    <tr>\n",
       "      <th>1638643954</th>\n",
       "      <td>localhost:9090</td>\n",
       "      <td>5s</td>\n",
       "      <td>prometheus</td>\n",
       "      <td>0.01</td>\n",
       "      <td>0</td>\n",
       "    </tr>\n",
       "    <tr>\n",
       "      <th>1638643959</th>\n",
       "      <td>localhost:9090</td>\n",
       "      <td>5s</td>\n",
       "      <td>prometheus</td>\n",
       "      <td>0.01</td>\n",
       "      <td>0</td>\n",
       "    </tr>\n",
       "    <tr>\n",
       "      <th>1638643964</th>\n",
       "      <td>localhost:9090</td>\n",
       "      <td>5s</td>\n",
       "      <td>prometheus</td>\n",
       "      <td>0.01</td>\n",
       "      <td>0</td>\n",
       "    </tr>\n",
       "  </tbody>\n",
       "</table>\n",
       "</div>"
      ],
      "text/plain": [
       "                  instance interval         job quantile value\n",
       "timestamp                                                     \n",
       "1638643944  localhost:9090       5s  prometheus     0.01     0\n",
       "1638643949  localhost:9090       5s  prometheus     0.01     0\n",
       "1638643954  localhost:9090       5s  prometheus     0.01     0\n",
       "1638643959  localhost:9090       5s  prometheus     0.01     0\n",
       "1638643964  localhost:9090       5s  prometheus     0.01     0"
      ]
     },
     "execution_count": 180,
     "metadata": {},
     "output_type": "execute_result"
    }
   ],
   "source": [
    "df = MetricRangeDataFrame(query_range)\n",
    "df.head()"
   ]
  },
  {
   "cell_type": "markdown",
   "metadata": {},
   "source": [
    "and again it ommits the \\_\\_name\\_\\_ column."
   ]
  },
  {
   "cell_type": "markdown",
   "metadata": {},
   "source": [
    "On one hand, we can just require from the user that all the queries will be specific such that they yield only one time-series. This will ease significantly all the process of make forecasts in the trainer, save them and extract them in the detector, along with the real-time data. On the other hand, maybe this is too restrictive requirement, since a lot of expresions in prometheus are natively designed to yield multiple time-series... So lets see what are the implications of supporting multiple time-series queries in our trainer-detector architecture:"
   ]
  },
  {
   "cell_type": "markdown",
   "metadata": {},
   "source": [
    "Lets count the relevant processes in the trainer and the detector that need special attention to support multi-time-series queries:\n",
    "1. extract the data from each query - need to use at least custom_query_range. Possibly pass the output to MetricRangeDataFrame, but not MetricsList (which not support non-metric expressions). In the general case we will get multiple metrics with unique labels values combination for each metric.\n",
    "2. fit_predict - for each query need to run an inner loop and fit_predict each time-series.\n",
    "3. save the forecasts - in some format... it can be csv for each individual metric with naming convention which includes the query and all the labels... can cause to more than 250 characters... not so good... maybe dump all the query_range data or the whole dataframe and the filenames will be serial number or shortened unique name (as done in Taboola).\n",
    "4. getting real time-data - to get the labels of each time-series we need to call custom_query_range first to get the real-time data (last 10 minutes).\n",
    "5. get forecasts - after getting all the labels combinations we need to extract their corresponding forecasts. for this we can compare the custom_query_range results above to the saved forecast data and use the data with the corresponding matched labels.\n"
   ]
  },
  {
   "cell_type": "markdown",
   "metadata": {},
   "source": [
    "So supporting multiple time-series queries seems to be duable but need quite complex handling, so we can keep it as future feature and for now we restrict the queries to yield single time-series."
   ]
  },
  {
   "cell_type": "code",
   "execution_count": 183,
   "metadata": {},
   "outputs": [
    {
     "data": {
      "text/plain": [
       "0"
      ]
     },
     "execution_count": 183,
     "metadata": {},
     "output_type": "execute_result"
    }
   ],
   "source": [
    "st = \"\"\n",
    "len(st)"
   ]
  },
  {
   "cell_type": "code",
   "execution_count": null,
   "metadata": {},
   "outputs": [],
   "source": []
  }
 ],
 "metadata": {
  "kernelspec": {
   "display_name": "Python 3",
   "language": "python",
   "name": "python3"
  },
  "language_info": {
   "codemirror_mode": {
    "name": "ipython",
    "version": 3
   },
   "file_extension": ".py",
   "mimetype": "text/x-python",
   "name": "python",
   "nbconvert_exporter": "python",
   "pygments_lexer": "ipython3",
   "version": "3.7.6"
  }
 },
 "nbformat": 4,
 "nbformat_minor": 4
}
