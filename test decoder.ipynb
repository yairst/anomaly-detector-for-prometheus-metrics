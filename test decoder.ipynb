{
 "cells": [
  {
   "cell_type": "code",
   "execution_count": 34,
   "metadata": {},
   "outputs": [
    {
     "name": "stdout",
     "output_type": "stream",
     "text": [
      "The autoreload extension is already loaded. To reload it, use:\n",
      "  %reload_ext autoreload\n"
     ]
    }
   ],
   "source": [
    "import sched\n",
    "import time\n",
    "import datetime as dt\n",
    "from prometheus_api_client.utils import parse_datetime\n",
    "import pandas as pd\n",
    "from detect import get_forecast_slice, is_anomaly\n",
    "import numpy as np\n",
    "\n",
    "%load_ext autoreload\n",
    "%autoreload 2"
   ]
  },
  {
   "cell_type": "markdown",
   "metadata": {},
   "source": [
    "one option is to schedule the detector inside the process, such that the process will run \"forever\" and each minute will execute fresh detection. For that here are some experiments with sched module:"
   ]
  },
  {
   "cell_type": "code",
   "execution_count": 4,
   "metadata": {},
   "outputs": [],
   "source": [
    "s = sched.scheduler(time.time, time.sleep)\n",
    "def print_time(a='default'):\n",
    "    print(\"From print_time\", time.time(), a)"
   ]
  },
  {
   "cell_type": "code",
   "execution_count": 15,
   "metadata": {},
   "outputs": [
    {
     "data": {
      "text/plain": [
       "1637923205.0"
      ]
     },
     "execution_count": 15,
     "metadata": {},
     "output_type": "execute_result"
    }
   ],
   "source": [
    "time.mktime(dt.datetime(2021,11,26,12,40,5).timetuple())"
   ]
  },
  {
   "cell_type": "code",
   "execution_count": 16,
   "metadata": {},
   "outputs": [
    {
     "name": "stdout",
     "output_type": "stream",
     "text": [
      "From print_time 1637924460.002396 default\n",
      "From print_time 1637924520.0050502 default\n",
      "From print_time 1637924580.0155327 default\n",
      "From print_time 1637924640.0046804 default\n",
      "From print_time 1637924700.0149934 default\n"
     ]
    }
   ],
   "source": [
    "start = time.mktime(dt.datetime(2021,11,26,13,1).timetuple())\n",
    "for i in range(5):\n",
    "    s.enterabs(start, 1, print_time)\n",
    "    start = start + 60\n",
    "s.run()\n"
   ]
  },
  {
   "cell_type": "markdown",
   "metadata": {},
   "source": [
    "We can see that it is possible. However, running the process forever seems not to be a good pattern. A beeter one will be to use external scheduler like crontab and run the process each minute. In this way each process run independently for short time, hence we get more stability."
   ]
  },
  {
   "cell_type": "markdown",
   "metadata": {},
   "source": [
    "Note that we parse dates immediatly in the start of the script to extract the right time range from the forecast file. However, after that we need to read from prometheus with query_to_df() that expect to get strings. However it seems that parse_datetime(), the inner function in query_to_df() know how to deal with datetime objects so this is non-issue:"
   ]
  },
  {
   "cell_type": "code",
   "execution_count": 18,
   "metadata": {},
   "outputs": [
    {
     "name": "stderr",
     "output_type": "stream",
     "text": [
      "C:\\Users\\Yair\\miniconda3\\lib\\site-packages\\dateparser\\date_parser.py:35: PytzUsageWarning: The localize method is no longer necessary, as this time zone supports the fold attribute (PEP 495). For more details on migrating to a PEP 495-compliant implementation, see https://pytz-deprecation-shim.readthedocs.io/en/latest/migration.html\n",
      "  date_obj = stz.localize(date_obj)\n"
     ]
    },
    {
     "data": {
      "text/plain": [
       "datetime.datetime(2021, 11, 23, 0, 0)"
      ]
     },
     "execution_count": 18,
     "metadata": {},
     "output_type": "execute_result"
    }
   ],
   "source": [
    "parse_datetime(pd.to_datetime(\"2021-11-23\"))"
   ]
  },
  {
   "cell_type": "markdown",
   "metadata": {},
   "source": [
    "test get_forecast_slice:"
   ]
  },
  {
   "cell_type": "code",
   "execution_count": 47,
   "metadata": {},
   "outputs": [
    {
     "name": "stderr",
     "output_type": "stream",
     "text": [
      "C:\\Users\\Yair\\miniconda3\\lib\\site-packages\\dateparser\\date_parser.py:35: PytzUsageWarning: The localize method is no longer necessary, as this time zone supports the fold attribute (PEP 495). For more details on migrating to a PEP 495-compliant implementation, see https://pytz-deprecation-shim.readthedocs.io/en/latest/migration.html\n",
      "  date_obj = stz.localize(date_obj)\n"
     ]
    },
    {
     "data": {
      "text/html": [
       "<div>\n",
       "<style scoped>\n",
       "    .dataframe tbody tr th:only-of-type {\n",
       "        vertical-align: middle;\n",
       "    }\n",
       "\n",
       "    .dataframe tbody tr th {\n",
       "        vertical-align: top;\n",
       "    }\n",
       "\n",
       "    .dataframe thead th {\n",
       "        text-align: right;\n",
       "    }\n",
       "</style>\n",
       "<table border=\"1\" class=\"dataframe\">\n",
       "  <thead>\n",
       "    <tr style=\"text-align: right;\">\n",
       "      <th></th>\n",
       "      <th>ds</th>\n",
       "      <th>yhat</th>\n",
       "      <th>yhat_lower</th>\n",
       "      <th>yhat_upper</th>\n",
       "    </tr>\n",
       "  </thead>\n",
       "  <tbody>\n",
       "    <tr>\n",
       "      <th>0</th>\n",
       "      <td>2021-11-21 12:30:00</td>\n",
       "      <td>9144.699952</td>\n",
       "      <td>7334.268057</td>\n",
       "      <td>10952.135716</td>\n",
       "    </tr>\n",
       "    <tr>\n",
       "      <th>1</th>\n",
       "      <td>2021-11-21 12:30:15</td>\n",
       "      <td>9143.165769</td>\n",
       "      <td>7618.407557</td>\n",
       "      <td>10670.317276</td>\n",
       "    </tr>\n",
       "    <tr>\n",
       "      <th>2</th>\n",
       "      <td>2021-11-21 12:30:30</td>\n",
       "      <td>9143.165769</td>\n",
       "      <td>7618.407557</td>\n",
       "      <td>10670.317276</td>\n",
       "    </tr>\n",
       "    <tr>\n",
       "      <th>3</th>\n",
       "      <td>2021-11-21 12:30:45</td>\n",
       "      <td>9137.557913</td>\n",
       "      <td>7491.144256</td>\n",
       "      <td>10904.603329</td>\n",
       "    </tr>\n",
       "    <tr>\n",
       "      <th>4</th>\n",
       "      <td>2021-11-21 12:31:00</td>\n",
       "      <td>9137.557913</td>\n",
       "      <td>7491.144256</td>\n",
       "      <td>10904.603329</td>\n",
       "    </tr>\n",
       "    <tr>\n",
       "      <th>5</th>\n",
       "      <td>2021-11-21 12:31:15</td>\n",
       "      <td>9128.453239</td>\n",
       "      <td>7454.625331</td>\n",
       "      <td>10800.229200</td>\n",
       "    </tr>\n",
       "    <tr>\n",
       "      <th>6</th>\n",
       "      <td>2021-11-21 12:31:30</td>\n",
       "      <td>9128.453239</td>\n",
       "      <td>7454.625331</td>\n",
       "      <td>10800.229200</td>\n",
       "    </tr>\n",
       "    <tr>\n",
       "      <th>7</th>\n",
       "      <td>2021-11-21 12:31:45</td>\n",
       "      <td>9116.514968</td>\n",
       "      <td>7433.927557</td>\n",
       "      <td>10726.386351</td>\n",
       "    </tr>\n",
       "    <tr>\n",
       "      <th>8</th>\n",
       "      <td>2021-11-21 12:32:00</td>\n",
       "      <td>9116.514968</td>\n",
       "      <td>7433.927557</td>\n",
       "      <td>10726.386351</td>\n",
       "    </tr>\n",
       "    <tr>\n",
       "      <th>9</th>\n",
       "      <td>2021-11-21 12:32:15</td>\n",
       "      <td>9102.482171</td>\n",
       "      <td>7313.619820</td>\n",
       "      <td>10515.466608</td>\n",
       "    </tr>\n",
       "  </tbody>\n",
       "</table>\n",
       "</div>"
      ],
      "text/plain": [
       "                   ds         yhat   yhat_lower    yhat_upper\n",
       "0 2021-11-21 12:30:00  9144.699952  7334.268057  10952.135716\n",
       "1 2021-11-21 12:30:15  9143.165769  7618.407557  10670.317276\n",
       "2 2021-11-21 12:30:30  9143.165769  7618.407557  10670.317276\n",
       "3 2021-11-21 12:30:45  9137.557913  7491.144256  10904.603329\n",
       "4 2021-11-21 12:31:00  9137.557913  7491.144256  10904.603329\n",
       "5 2021-11-21 12:31:15  9128.453239  7454.625331  10800.229200\n",
       "6 2021-11-21 12:31:30  9128.453239  7454.625331  10800.229200\n",
       "7 2021-11-21 12:31:45  9116.514968  7433.927557  10726.386351\n",
       "8 2021-11-21 12:32:00  9116.514968  7433.927557  10726.386351\n",
       "9 2021-11-21 12:32:15  9102.482171  7313.619820  10515.466608"
      ]
     },
     "execution_count": 47,
     "metadata": {},
     "output_type": "execute_result"
    }
   ],
   "source": [
    "forecast = \"prometheus_tsdb_head_chunks\"\n",
    "start_time = \"2021-11-21 12:30:00\"\n",
    "end_time = \"2021-11-21 12:32:15\"\n",
    "step='15s'\n",
    "\n",
    "pred = get_forecast_slice(forecast, start_time=start_time, end_time=end_time, step=step)\n",
    "pred"
   ]
  },
  {
   "cell_type": "markdown",
   "metadata": {},
   "source": [
    "test is_anomaly:"
   ]
  },
  {
   "cell_type": "code",
   "execution_count": 46,
   "metadata": {},
   "outputs": [
    {
     "name": "stdout",
     "output_type": "stream",
     "text": [
      "no_anomaly 1, check-upper: 0\n",
      "no_anomaly 1, check-lower: 0\n",
      "no_anomaly 1, check-both: 0\n",
      "no_anomaly 2: 0\n",
      "no_anomaly 2, check-lower: 0\n",
      "no_anomaly 2, check-both: 0\n",
      "no_anomaly 3: 0\n",
      "no_anomaly 3, check-lower: 0\n",
      "no_anomaly 3, check-both: 0\n",
      "actual-upper, check-upper: 1\n",
      "actual-upper, check-lower: 0\n",
      "actual-upper, check-both: 1\n",
      "actual-lower, check-upper: 0\n",
      "actual-lower, check-lower: -1\n",
      "actual-lower, check-both: -1\n"
     ]
    }
   ],
   "source": [
    "pred_min = pred.yhat_lower.min()\n",
    "pred_mean = pred.yhat.mean()\n",
    "pred_max = pred.yhat_upper.max()\n",
    "\n",
    "no_anomaly1 = pd.DataFrame(np.array([pred_mean]*10),columns=['y'])\n",
    "no_anomaly2 = pd.DataFrame(np.array([pred_mean]*6+[pred_min-1]*4),columns=['y'])\n",
    "no_anomaly3 = pd.DataFrame(np.array([pred_mean]*6+[pred_max + 1]*4),columns=['y'])\n",
    "\n",
    "upper = pd.DataFrame(np.array([pred_mean]*5+[pred_max+1]*5),columns=['y'])\n",
    "lower = pd.DataFrame(np.array([pred_mean]*5+[pred_min-1]*5),columns=['y'])\n",
    "\n",
    "print(\"no_anomaly 1, check-upper:\", is_anomaly(no_anomaly1, pred))\n",
    "print(\"no_anomaly 1, check-lower:\", is_anomaly(no_anomaly1, pred, anomaly_type=\"lower\"))\n",
    "print(\"no_anomaly 1, check-both:\", is_anomaly(no_anomaly1, pred, anomaly_type=\"both\"))\n",
    "print(\"no_anomaly 2:\", is_anomaly(no_anomaly2, pred))\n",
    "print(\"no_anomaly 2, check-lower:\", is_anomaly(no_anomaly2, pred, anomaly_type=\"lower\"))\n",
    "print(\"no_anomaly 2, check-both:\", is_anomaly(no_anomaly2, pred, anomaly_type=\"both\"))\n",
    "print(\"no_anomaly 3:\", is_anomaly(no_anomaly3, pred))\n",
    "print(\"no_anomaly 3, check-lower:\", is_anomaly(no_anomaly3, pred, anomaly_type=\"lower\"))\n",
    "print(\"no_anomaly 3, check-both:\", is_anomaly(no_anomaly3, pred, anomaly_type=\"both\"))\n",
    "\n",
    "print(\"actual-upper, check-upper:\", is_anomaly(upper, pred))\n",
    "print(\"actual-upper, check-lower:\", is_anomaly(upper, pred, anomaly_type=\"lower\"))\n",
    "print(\"actual-upper, check-both:\", is_anomaly(upper, pred, anomaly_type=\"both\"))\n",
    "\n",
    "print(\"actual-lower, check-upper:\", is_anomaly(lower, pred))\n",
    "print(\"actual-lower, check-lower:\", is_anomaly(lower, pred, anomaly_type=\"lower\"))\n",
    "print(\"actual-lower, check-both:\", is_anomaly(lower, pred, anomaly_type=\"both\"))\n"
   ]
  },
  {
   "cell_type": "code",
   "execution_count": null,
   "metadata": {},
   "outputs": [],
   "source": []
  }
 ],
 "metadata": {
  "kernelspec": {
   "display_name": "Python 3",
   "language": "python",
   "name": "python3"
  },
  "language_info": {
   "codemirror_mode": {
    "name": "ipython",
    "version": 3
   },
   "file_extension": ".py",
   "mimetype": "text/x-python",
   "name": "python",
   "nbconvert_exporter": "python",
   "pygments_lexer": "ipython3",
   "version": "3.7.6"
  }
 },
 "nbformat": 4,
 "nbformat_minor": 4
}
