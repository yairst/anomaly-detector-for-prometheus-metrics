{
 "cells": [
  {
   "cell_type": "markdown",
   "metadata": {},
   "source": [
    "Lets start with 2 simple functions: first-class function, add_together() which add 2 numbers and higher-order-function, op_on_list_of_tuples(), that takes function and a list of tuples as arguments. in our case we will use the later to take add_together() and some list of tuples such that add_together() will act on each tuple and the function will return list of sums:"
   ]
  },
  {
   "cell_type": "code",
   "execution_count": 22,
   "metadata": {},
   "outputs": [
    {
     "data": {
      "text/plain": [
       "[4, 7, 2]"
      ]
     },
     "execution_count": 22,
     "metadata": {},
     "output_type": "execute_result"
    }
   ],
   "source": [
    "def op_on_list_of_tuples(fnc, list_of_tuples):\n",
    "    return [fnc(val[0], val[1]) for val in list_of_tuples]\n",
    "\n",
    "def add_together(a,b):\n",
    "    return a+b;\n",
    "\n",
    "lst = [(1,3),(2,5),(0,2)]\n",
    "\n",
    "op_on_list_of_tuples(add_together, lst)"
   ]
  },
  {
   "cell_type": "markdown",
   "metadata": {},
   "source": [
    "now we'll do the same but by using decorator function that takes only function as argument and return another function.\n",
    "In our example, this decorator will take add_together() and return function that take list of tuples and act add_together upon them to yield list of sums:"
   ]
  },
  {
   "cell_type": "code",
   "execution_count": 23,
   "metadata": {},
   "outputs": [],
   "source": [
    "def decorator_list(fnc):\n",
    "    def inner(list_of_tuples):\n",
    "        return [fnc(val[0], val[1]) for val in list_of_tuples]\n",
    "    return inner"
   ]
  },
  {
   "cell_type": "markdown",
   "metadata": {},
   "source": [
    "This line actually assign the inner function of the decorater, with add_together2 as fnc, to the function name add_together2:"
   ]
  },
  {
   "cell_type": "code",
   "execution_count": 24,
   "metadata": {},
   "outputs": [],
   "source": [
    "@decorator_list\n",
    "def add_together2(a, b):\n",
    "    return a + b"
   ]
  },
  {
   "cell_type": "markdown",
   "metadata": {},
   "source": [
    "so that when we run add_together2() we actually run the inner function of the decorator with the original add_together2() as fnc:"
   ]
  },
  {
   "cell_type": "code",
   "execution_count": 25,
   "metadata": {},
   "outputs": [
    {
     "data": {
      "text/plain": [
       "[4, 7, 2]"
      ]
     },
     "execution_count": 25,
     "metadata": {},
     "output_type": "execute_result"
    }
   ],
   "source": [
    "add_together2(lst)"
   ]
  },
  {
   "cell_type": "markdown",
   "metadata": {},
   "source": [
    "the syntax of decoration is actually a synonym for the following assignment:"
   ]
  },
  {
   "cell_type": "code",
   "execution_count": 21,
   "metadata": {},
   "outputs": [],
   "source": [
    "def add_together3(a,b):\n",
    "    return a+b;\n",
    "add_together3 = decorator_list(add_together3)"
   ]
  },
  {
   "cell_type": "code",
   "execution_count": 26,
   "metadata": {},
   "outputs": [
    {
     "data": {
      "text/plain": [
       "[4, 7, 2]"
      ]
     },
     "execution_count": 26,
     "metadata": {},
     "output_type": "execute_result"
    }
   ],
   "source": [
    "add_together3(lst)"
   ]
  },
  {
   "cell_type": "code",
   "execution_count": null,
   "metadata": {},
   "outputs": [],
   "source": []
  }
 ],
 "metadata": {
  "kernelspec": {
   "display_name": "Python 3",
   "language": "python",
   "name": "python3"
  },
  "language_info": {
   "codemirror_mode": {
    "name": "ipython",
    "version": 3
   },
   "file_extension": ".py",
   "mimetype": "text/x-python",
   "name": "python",
   "nbconvert_exporter": "python",
   "pygments_lexer": "ipython3",
   "version": "3.7.6"
  }
 },
 "nbformat": 4,
 "nbformat_minor": 4
}
